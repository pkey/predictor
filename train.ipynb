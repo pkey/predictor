{
 "cells": [
  {
   "cell_type": "markdown",
   "metadata": {},
   "source": [
    "### Imports"
   ]
  },
  {
   "cell_type": "code",
   "execution_count": 1,
   "metadata": {},
   "outputs": [],
   "source": [
    "import numpy as np\n",
    "import pandas as pd\n",
    "import tensorflow as tf\n",
    "from string import punctuation"
   ]
  },
  {
   "cell_type": "markdown",
   "metadata": {},
   "source": [
    "### Utility functions for reading data from the files"
   ]
  },
  {
   "cell_type": "code",
   "execution_count": 2,
   "metadata": {},
   "outputs": [],
   "source": [
    "def getTestDatasetFromCsv():\n",
    "    tweets = pd.read_csv(\"data/Test.csv\", delimiter=',', encoding='utf8')\n",
    "    return tweets\n",
    "\n",
    "def getTweetsFromCsv(filename=\"data/Tweets.csv\"):\n",
    "    tweets = pd.read_csv(filename, delimiter='\\t', names=['id', 'text', 'time'], encoding='utf8')\n",
    "    tweets['time'] = pd.to_datetime(tweets['time'])\n",
    "    tweets = tweets.sort_values('time')\n",
    "    return tweets\n",
    "\n",
    "def getPricesFromCsv(pricefile = 'data/Prices.csv'):  \n",
    "    return pd.read_csv(pricefile)\n",
    "\n",
    "def matchPriceDelay(rawPrices, delay):\n",
    "    #Get target price, applying delay\n",
    "    rawPrices['target'] = rawPrices.loc[delay:, ['open']].reset_index(drop=True)\n",
    "    \n",
    "    #Get increased by substracting difference and applying boolean expression\n",
    "    rawPrices['increased'] = rawPrices.loc[delay:, ['open']].reset_index(drop=True) - rawPrices.loc[:,['open']].reset_index(drop=True)\n",
    "    rawPrices['increased'] = rawPrices['increased'].apply(lambda x: 1 if x > 0 else 0)\n",
    "    return rawPrices\n"
   ]
  },
  {
   "cell_type": "markdown",
   "metadata": {
    "collapsed": true
   },
   "source": [
    "### Utility functions for preprocessing and building data"
   ]
  },
  {
   "cell_type": "code",
   "execution_count": 3,
   "metadata": {},
   "outputs": [],
   "source": [
    "def getWordSet(tweets):\n",
    "    #Get distinct set of words from messages\n",
    "    return set([i for i in ' '.join(tweets).split(' ')])\n",
    "\n",
    "def mapWordsToIntegers(words):\n",
    "    #Create word to integer map\n",
    "    return {word:index+1 for index,word in enumerate(words)}\n",
    "\n",
    "def getCleanedTweets(tweets):\n",
    "    #Removed punctuations and excess spaces\n",
    "    cleanedTweets = []\n",
    "    for tweet in tweets:\n",
    "        cleanedTweets.append(''.join(\n",
    "            [c for c in ' '.join(filter(None, tweet.split(' '))) if c not in punctuation]\n",
    "        ))\n",
    "    return cleanedTweets\n",
    "\n",
    "def preprocessTweets(tweets, sequenceLength, tweets_ints):\n",
    "    proccessedTweets = np.zeros((len(tweets), sequenceLength),dtype=int)\n",
    "    for index, tweet in enumerate(proccessedTweets):\n",
    "        tweet_int = tweets_ints[index]\n",
    "        tweet[sequenceLength - len(tweet_int):] = tweet_int\n",
    "    return proccessedTweets\n",
    "\n",
    "\n",
    "def getPriceDictionary(prices):\n",
    "    #Create dictionary of price date and whether it has increased or not\n",
    "    return {row['start']:row['increased'] for index, row in prices.iterrows()}\n",
    "\n",
    "def getTrainingData(tweets, price_map, delay=1):\n",
    "    time_keys = sorted(list(price_map.keys()))[:-delay]\n",
    "    tweets_train = tweets.loc[tweets['time'].astype(str).isin(time_keys)]\n",
    "    labels_train = [price_map[str(row['time'] + pd.Timedelta(minutes=delay))] for index,row in tweets_train.iterrows()]\n",
    "    return tweets_train, labels_train\n",
    "\n",
    "\n",
    "def getLongestTweetLength(tweets):\n",
    "    longest = 0\n",
    "    for tweet in tweets:\n",
    "        length = len(tweet.split(' '))\n",
    "        if length > longest:\n",
    "            longest = length\n",
    "    return longest\n",
    "\n",
    "def mapTweetsToWordIntegerMaps(tweets, wordIntegers):\n",
    "    #map tweets messages to word integeres\n",
    "    proccessedTweets = []\n",
    "    for tweet in tweets:\n",
    "        proccessedTweets.append([wordIntegers[word] for word in tweet.split(' ')\n",
    "                                          if word != '' and word!= ' '])\n",
    "    return proccessedTweets \n",
    "    \n",
    "def splitData(data, labels, ratio):    \n",
    "    #Split data\n",
    "    pivotIndex = int(len(data)*ratio)\n",
    "    train_x, val_x = data[:pivotIndex], data[pivotIndex:]\n",
    "    train_y, val_y = labels[:pivotIndex], labels[pivotIndex:]\n",
    "\n",
    "    testPivotIndex = int(len(val_x)*0.5)\n",
    "    val_x, test_x = val_x[:testPivotIndex], val_x[testPivotIndex:]\n",
    "    val_y, test_y = val_y[:testPivotIndex], val_y[testPivotIndex:]\n",
    "    \n",
    "    return train_x, train_y, val_x, val_y, test_x, test_y\n",
    "\n"
   ]
  },
  {
   "cell_type": "markdown",
   "metadata": {},
   "source": [
    "### Utility functions to build network"
   ]
  },
  {
   "cell_type": "code",
   "execution_count": 4,
   "metadata": {},
   "outputs": [],
   "source": [
    "def getAccuracy(labels, predictions):\n",
    "    with tf.name_scope('accuracy'):        \n",
    "        correct_pred = tf.equal(labels,tf.cast(tf.round(tf.sigmoid(predictions)), tf.int32))\n",
    "        accuracy = tf.reduce_mean(tf.cast(correct_pred, tf.float32))\n",
    "#         accuracy = tf.losses.mean_squared_error(labels, predictions)\n",
    "        tf.summary.scalar('accuracy',accuracy)\n",
    "    return accuracy\n",
    "\n",
    "def getCost(labels, predictions):\n",
    "    with tf.name_scope('cost'):\n",
    "        cost = tf.losses.mean_squared_error(labels, predictions)\n",
    "        tf.summary.scalar('cost', cost)\n",
    "    return cost\n",
    "\n",
    "def getPredictions(embeding, lstm_size, lstm_layers,keep_prob, num_outputs=1):\n",
    "    outputs = buildRnn(embeding, lstm_size, lstm_layers, keep_prob)\n",
    "\n",
    "    with tf.name_scope('predictions'):\n",
    "        predictions = tf.contrib.layers.fully_connected(outputs[:, -1],\n",
    "        num_outputs=num_outputs,activation_fn=None)\n",
    "        tf.summary.histogram('predictions', predictions)\n",
    "    return predictions\n",
    "\n",
    "def getBatches(x, y, batch_size=100):    \n",
    "    n_batches = len(x)//batch_size\n",
    "    x, y = x[:n_batches*batch_size], y[:n_batches*batch_size]\n",
    "    for ii in range(0, len(x), batch_size):\n",
    "        yield x[ii:ii+batch_size], y[ii:ii+batch_size]\n",
    "        \n",
    "def getLabels(output_dtype, batch_size):\n",
    "    return tf.placeholder(output_dtype, shape=[batch_size, 1], name='labels')\n",
    "\n",
    "def getInputs(output_dtype, batch_size, seq_len):\n",
    "    return tf.placeholder(dtype=output_dtype, shape=[batch_size, seq_len ], name=\"inputs\")\n",
    "\n",
    "def getSequenceLength():\n",
    "    return tf.placeholder(dtype=tf.float32,name='seq_len')\n",
    "\n",
    "def getLearningRate():\n",
    "    with tf.name_scope('learning_rate'):\n",
    "        learning_rate = tf.placeholder(dtype=tf.float32, shape=(None), name=\"learning_rate\")\n",
    "        tf.summary.scalar('learning_rate', learning_rate)\n",
    "    return learning_rate\n",
    "\n",
    "def getDropoutKeepProbability():\n",
    "    return tf.placeholder(tf.float32, name='keep_prob')\n",
    "\n",
    "def getEmbedding(inputs, word_number, embedding_size):\n",
    "    with tf.name_scope('embeding'):\n",
    "        embeddings = tf.Variable(tf.random_uniform([word_number, embedding_size], -1, 1, seed=123))\n",
    "        embedded_words = tf.nn.embedding_lookup(embeddings, inputs)\n",
    "    return embedded_words\n",
    "\n",
    "def getRnnCell(lstm_size, keep_prob):\n",
    "    lstm = tf.nn.rnn_cell.BasicLSTMCell(num_units=lstm_size)\n",
    "    drop = tf.nn.rnn_cell.DropoutWrapper(lstm, output_keep_prob=keep_prob)\n",
    "    return drop\n",
    "\n",
    "def buildRnn(inputs, lstm_size, lstm_layers, keep_prob):\n",
    "    cell = tf.nn.rnn_cell.MultiRNNCell(\n",
    "        [getRnnCell(lstm_size, keep_prob) for _ in range(lstm_layers)])\n",
    "    rnn, final_state = tf.nn.dynamic_rnn(cell=cell, inputs=inputs, dtype=tf.float32)\n",
    "    return rnn\n",
    "\n",
    "def getOptimiser(lr, cost):            \n",
    "    with tf.name_scope('train'):\n",
    "        optimizer = tf.train.AdamOptimizer(lr).minimize(cost)\n",
    "    return optimizer\n",
    "\n",
    "def formatSummaries(var):\n",
    "    with tf.name_scope('summaries'):\n",
    "        mean = tf.reduce_mean(var)\n",
    "        tf.summary.scalar('mean', mean)\n",
    "        with tf.name_scope('stddev'):\n",
    "            stddev = tf.sqrt(tf.reduce_mean(tf.square(var - mean)))\n",
    "        tf.summary.scalar('stddev', stddev)\n",
    "        tf.summary.scalar('max', tf.reduce_max(var))\n",
    "        tf.summary.scalar('min', tf.reduce_min(var))\n",
    "        tf.summary.histogram('histogram', var)        "
   ]
  },
  {
   "cell_type": "markdown",
   "metadata": {},
   "source": [
    "### Load data"
   ]
  },
  {
   "cell_type": "markdown",
   "metadata": {},
   "source": [
    "#### Method for loading test dataset"
   ]
  },
  {
   "cell_type": "code",
   "execution_count": 5,
   "metadata": {},
   "outputs": [],
   "source": [
    "def loadTestDataset():\n",
    "    tweets = getTestDatasetFromCsv()\n",
    "    prices = tweets.airline_sentiment.apply(lambda x: 0 if x == 'negative' else 1)\n",
    "    \n",
    "    prices = np.array(prices).reshape(len(prices),1)\n",
    "    print(\"Tweets dataset size: {0}\".format(len(tweets)))\n",
    "    \n",
    "    word_list = getWordSet(tweets['text'])\n",
    "    word_2_int = mapWordsToIntegers(word_list)\n",
    "    tweets_ints = mapTweetsToWordIntegerMaps(tweets['text'], word_2_int)\n",
    "    \n",
    "    longest = getLongestTweetLength(tweets['text'])\n",
    "    print(\"Total unique word count: {0}\".format(len(word_list)))\n",
    "    \n",
    "    tweet_final = preprocessTweets(sequenceLength=longest, tweets=tweets_ints, tweets_ints=tweets_ints)\n",
    "    \n",
    "    n_words = len(word_2_int) + 1 \n",
    "    \n",
    "    return tweets, tweet_final, word_list, word_2_int, tweets_ints, n_words,longest,prices"
   ]
  },
  {
   "cell_type": "markdown",
   "metadata": {},
   "source": [
    "#### Method for loading actual dataset"
   ]
  },
  {
   "cell_type": "code",
   "execution_count": 6,
   "metadata": {},
   "outputs": [],
   "source": [
    "def loadActualDataset(latency, seq_len):\n",
    "    tweets = getTweetsFromCsv()\n",
    "    prices_raw = getPricesFromCsv() \n",
    "    \n",
    "    prices_raw = matchPriceDelay(prices_raw, latency)  \n",
    "    \n",
    "    tweets['time'] = tweets['time'].apply(lambda x: x.replace(second=0))\n",
    "    price_map = getPriceDictionary(prices_raw)\n",
    "    \n",
    "    tweets1, labels1 = getTrainingData(tweets, price_map, delay=1)\n",
    "    \n",
    "    prices = np.array(labels1).reshape(len(labels1),1)\n",
    "    print(\"Tweets dataset size: {0}\".format(len(tweets1)))\n",
    "    \n",
    "    tweets1['text2'] = tweets1.text.apply(lambda x: \" \".join(x.split(\" \")[-seq_len:]))\n",
    "    \n",
    "    cleaned_tweets = getCleanedTweets(tweets1['text2'])\n",
    "    word_list = getWordSet(cleaned_tweets)\n",
    "    word_2_int = mapWordsToIntegers(word_list)\n",
    "    tweets_ints = mapTweetsToWordIntegerMaps(cleaned_tweets, word_2_int)    \n",
    "    \n",
    "    longest = getLongestTweetLength(cleaned_tweets)\n",
    "    print(\"Total unique word count: {0}\".format(len(word_list)))\n",
    "    \n",
    "    tweet_final = preprocessTweets(sequenceLength=longest, tweets=tweets_ints, tweets_ints=tweets_ints)\n",
    "    \n",
    "    n_words = len(word_2_int) + 1 \n",
    "    \n",
    "    return tweets1, tweet_final, word_list, word_2_int, tweets_ints, n_words,longest,prices    \n"
   ]
  },
  {
   "cell_type": "markdown",
   "metadata": {
    "collapsed": true
   },
   "source": [
    "#### Method for splitting dataset into training, validation and test"
   ]
  },
  {
   "cell_type": "code",
   "execution_count": 7,
   "metadata": {},
   "outputs": [],
   "source": [
    "def getSplitDatasets(tweet_final, prices, is_logits = False):     \n",
    "    train_x, train_y, val_x, val_y, test_x, test_y = splitData(tweet_final, prices, 0.8)    \n",
    "    if is_logits:\n",
    "        train_y = list(map(lambda x: [0,1] if x == 0 else [1,0], train_y))\n",
    "        val_y = list(map(lambda x: [0,1] if x == 0 else [1,0], val_y))\n",
    "        test_y = list(map(lambda x: [0,1] if x == 0 else [1,0], test_y))\n",
    "    \n",
    "    return train_x, train_y, val_x, val_y, test_x, test_y\n"
   ]
  },
  {
   "cell_type": "markdown",
   "metadata": {
    "collapsed": true
   },
   "source": [
    "#### Method for plotting graph"
   ]
  },
  {
   "cell_type": "code",
   "execution_count": 8,
   "metadata": {},
   "outputs": [],
   "source": [
    "def plotGraph(tweets1):\n",
    "    abc = tweets1.text.apply(lambda x: len(x.split(\" \")))\n",
    "    plot = abc.sort_values().reset_index(drop=True).plot(kind='line',)\n",
    "    import matplotlib.pyplot as plt\n",
    "    plt.ylabel(\"item length\",size=14)\n",
    "    plt.xlabel(\"tweet number\", size=14)\n",
    "    plt.show(plot)"
   ]
  },
  {
   "cell_type": "markdown",
   "metadata": {},
   "source": [
    "### Parameters\n"
   ]
  },
  {
   "cell_type": "markdown",
   "metadata": {},
   "source": [
    "#### Test run?"
   ]
  },
  {
   "cell_type": "code",
   "execution_count": 19,
   "metadata": {},
   "outputs": [],
   "source": [
    "testRun = False"
   ]
  },
  {
   "cell_type": "markdown",
   "metadata": {},
   "source": [
    "#### Experiment and model number"
   ]
  },
  {
   "cell_type": "code",
   "execution_count": 20,
   "metadata": {},
   "outputs": [],
   "source": [
    "#Experinment number\n",
    "experimentNumber = 4\n",
    "\n",
    "#Model number\n",
    "modelNumber = 2"
   ]
  },
  {
   "cell_type": "markdown",
   "metadata": {},
   "source": [
    "### Hyper parameters"
   ]
  },
  {
   "cell_type": "code",
   "execution_count": 26,
   "metadata": {},
   "outputs": [],
   "source": [
    "if testRun:\n",
    "    RnnSize = 128\n",
    "    RnnLayers = 1\n",
    "    batchSize = 64\n",
    "    sequenceLength = 36\n",
    "    embeddingSize = 32\n",
    "    learningRate = 0.001\n",
    "    keepProbability = 0.7\n",
    "    epochNumber = 20\n",
    "else:\n",
    "    RnnSize = 1\n",
    "    RnnLayers = 1\n",
    "    batchSize = 250\n",
    "    sequenceLength = 33\n",
    "    embeddingSize = 32\n",
    "    learningRate = 0.001\n",
    "    keepProbability = 0.7\n",
    "    epochNumber = 1"
   ]
  },
  {
   "cell_type": "code",
   "execution_count": 22,
   "metadata": {},
   "outputs": [
    {
     "name": "stdout",
     "output_type": "stream",
     "text": [
      "Tweets dataset size: 725356\n"
     ]
    },
    {
     "name": "stdout",
     "output_type": "stream",
     "text": [
      "Total unique word count: 385526\n"
     ]
    }
   ],
   "source": [
    "if testRun:\n",
    "    tweets, tweet_final, word_list, word_2_int, tweets_ints, n_words, longest, prices = loadTestDataset()\n",
    "else: \n",
    "    tweets, tweet_final, word_list, word_2_int, tweets_ints, n_words, longest,prices = loadActualDataset(\n",
    "    1, sequenceLength)\n",
    "    #plotGraph(tweets)\n",
    "\n",
    "train_x, train_y, val_x, val_y, test_x, test_y = getSplitDatasets(tweet_final, prices)"
   ]
  },
  {
   "cell_type": "markdown",
   "metadata": {},
   "source": [
    "#### Shape of the dataset"
   ]
  },
  {
   "cell_type": "code",
   "execution_count": 23,
   "metadata": {},
   "outputs": [
    {
     "data": {
      "text/plain": [
       "(580284, 33)"
      ]
     },
     "execution_count": 23,
     "metadata": {},
     "output_type": "execute_result"
    }
   ],
   "source": [
    "train_x.shape"
   ]
  },
  {
   "cell_type": "markdown",
   "metadata": {},
   "source": [
    "### Build the network"
   ]
  },
  {
   "cell_type": "code",
   "execution_count": 27,
   "metadata": {
    "scrolled": true
   },
   "outputs": [
    {
     "name": "stdout",
     "output_type": "stream",
     "text": [
      "(<tf.Tensor 'cost/mean_squared_error/value:0' shape=() dtype=float32>, <tf.Tensor 'predictions/fully_connected/BiasAdd:0' shape=(250, 1) dtype=float32>)\n"
     ]
    }
   ],
   "source": [
    "tf.reset_default_graph()\n",
    "\n",
    "train_graph = tf.Graph()\n",
    "with train_graph.as_default():\n",
    "    inputs = getInputs(tf.int32, batchSize, sequenceLength)\n",
    "    labels = getLabels(tf.int32,batchSize)\n",
    "    lr = getLearningRate()\n",
    "    drop_keep_porob = getDropoutKeepProbability()\n",
    "    embed = getEmbedding(inputs=inputs, word_number=n_words, embedding_size=embeddingSize)\n",
    "    \n",
    "    predictions = getPredictions(embed, RnnSize, RnnLayers, drop_keep_porob)\n",
    "    cost = getCost(labels, predictions)\n",
    "    accuracy = getAccuracy(labels, predictions)\n",
    "       \n",
    "    print(cost,predictions)\n",
    "    optimiser = getOptimiser(lr, cost)\n",
    "    \n",
    "    saver = tf.train.Saver()\n",
    "\n",
    "    for var in tf.trainable_variables('fully_connected'):\n",
    "        name = 'fc-{0}'\n",
    "        if 'weights' in var.name:\n",
    "            name = name.format('weights')\n",
    "        else:\n",
    "            name = name.format('biases')\n",
    "        with tf.variable_scope(name):\n",
    "            formatSummaries(var)  \n",
    "    \n",
    "    for var in tf.trainable_variables('dense'):\n",
    "        print(var.name)\n",
    "        name = var.name.split(\"/\")[0]+\"-{0}\"\n",
    "        if 'kernel' in var.name:\n",
    "            name = name.format('weights')\n",
    "        else:\n",
    "            name = name.format('biases')\n",
    "        with tf.variable_scope(name):\n",
    "            formatSummaries(var)  \n",
    "\n",
    "    merged = tf.summary.merge_all()"
   ]
  },
  {
   "cell_type": "markdown",
   "metadata": {},
   "source": [
    "### Training of the network"
   ]
  },
  {
   "cell_type": "code",
   "execution_count": 28,
   "metadata": {
    "scrolled": true
   },
   "outputs": [
    {
     "name": "stdout",
     "output_type": "stream",
     "text": [
      "('Epoch: 0/1', 'Iteration: 5', 'Train loss: 0.44825789')\n"
     ]
    },
    {
     "name": "stdout",
     "output_type": "stream",
     "text": [
      "('Epoch: 0/1', 'Iteration: 10', 'Train loss: 0.49685681')\n"
     ]
    },
    {
     "name": "stdout",
     "output_type": "stream",
     "text": [
      "('Epoch: 0/1', 'Iteration: 15', 'Train loss: 0.41737461')\n"
     ]
    },
    {
     "name": "stdout",
     "output_type": "stream",
     "text": [
      "('Epoch: 0/1', 'Iteration: 20', 'Train loss: 0.40994433')\n"
     ]
    },
    {
     "name": "stdout",
     "output_type": "stream",
     "text": [
      "('Epoch: 0/1', 'Iteration: 25', 'Train loss: 0.22267580')\n"
     ]
    },
    {
     "name": "stdout",
     "output_type": "stream",
     "text": [
      "Val acc: 0.44136551\n"
     ]
    },
    {
     "name": "stdout",
     "output_type": "stream",
     "text": [
      "('Epoch: 0/1', 'Iteration: 30', 'Train loss: 0.22986636')\n"
     ]
    },
    {
     "name": "stdout",
     "output_type": "stream",
     "text": [
      "('Epoch: 0/1', 'Iteration: 35', 'Train loss: 0.33281100')\n"
     ]
    },
    {
     "name": "stdout",
     "output_type": "stream",
     "text": [
      "('Epoch: 0/1', 'Iteration: 40', 'Train loss: 0.27701598')\n"
     ]
    },
    {
     "name": "stdout",
     "output_type": "stream",
     "text": [
      "('Epoch: 0/1', 'Iteration: 45', 'Train loss: 0.39231667')\n"
     ]
    },
    {
     "name": "stdout",
     "output_type": "stream",
     "text": [
      "('Epoch: 0/1', 'Iteration: 50', 'Train loss: 0.37178910')\n"
     ]
    },
    {
     "name": "stdout",
     "output_type": "stream",
     "text": [
      "Val acc: 0.42122757\n"
     ]
    },
    {
     "name": "stdout",
     "output_type": "stream",
     "text": [
      "('Epoch: 0/1', 'Iteration: 55', 'Train loss: 0.40776044')\n"
     ]
    },
    {
     "name": "stdout",
     "output_type": "stream",
     "text": [
      "('Epoch: 0/1', 'Iteration: 60', 'Train loss: 0.25803894')\n"
     ]
    },
    {
     "name": "stdout",
     "output_type": "stream",
     "text": [
      "('Epoch: 0/1', 'Iteration: 65', 'Train loss: 0.33941534')\n"
     ]
    },
    {
     "name": "stdout",
     "output_type": "stream",
     "text": [
      "('Epoch: 0/1', 'Iteration: 70', 'Train loss: 0.38146508')\n"
     ]
    },
    {
     "name": "stdout",
     "output_type": "stream",
     "text": [
      "('Epoch: 0/1', 'Iteration: 75', 'Train loss: 0.46988356')\n"
     ]
    },
    {
     "name": "stdout",
     "output_type": "stream",
     "text": [
      "Val acc: 0.40983450\n"
     ]
    },
    {
     "name": "stdout",
     "output_type": "stream",
     "text": [
      "('Epoch: 0/1', 'Iteration: 80', 'Train loss: 0.32076821')\n"
     ]
    },
    {
     "name": "stdout",
     "output_type": "stream",
     "text": [
      "('Epoch: 0/1', 'Iteration: 85', 'Train loss: 0.36261827')\n"
     ]
    },
    {
     "name": "stdout",
     "output_type": "stream",
     "text": [
      "('Epoch: 0/1', 'Iteration: 90', 'Train loss: 0.34690759')\n"
     ]
    },
    {
     "name": "stdout",
     "output_type": "stream",
     "text": [
      "('Epoch: 0/1', 'Iteration: 95', 'Train loss: 0.26466218')\n"
     ]
    },
    {
     "name": "stdout",
     "output_type": "stream",
     "text": [
      "('Epoch: 0/1', 'Iteration: 100', 'Train loss: 0.30336258')\n"
     ]
    },
    {
     "name": "stdout",
     "output_type": "stream",
     "text": [
      "Val acc: 0.40533796\n"
     ]
    },
    {
     "name": "stdout",
     "output_type": "stream",
     "text": [
      "('Epoch: 0/1', 'Iteration: 105', 'Train loss: 0.32355127')\n"
     ]
    },
    {
     "name": "stdout",
     "output_type": "stream",
     "text": [
      "('Epoch: 0/1', 'Iteration: 110', 'Train loss: 0.35746548')\n"
     ]
    },
    {
     "name": "stdout",
     "output_type": "stream",
     "text": [
      "('Epoch: 0/1', 'Iteration: 115', 'Train loss: 0.40511283')\n"
     ]
    },
    {
     "name": "stdout",
     "output_type": "stream",
     "text": [
      "('Epoch: 0/1', 'Iteration: 120', 'Train loss: 0.34220499')\n"
     ]
    },
    {
     "name": "stdout",
     "output_type": "stream",
     "text": [
      "('Epoch: 0/1', 'Iteration: 125', 'Train loss: 0.36368364')\n"
     ]
    },
    {
     "name": "stdout",
     "output_type": "stream",
     "text": [
      "Val acc: 0.40346205\n"
     ]
    },
    {
     "name": "stdout",
     "output_type": "stream",
     "text": [
      "('Epoch: 0/1', 'Iteration: 130', 'Train loss: 0.25510567')\n"
     ]
    },
    {
     "name": "stdout",
     "output_type": "stream",
     "text": [
      "('Epoch: 0/1', 'Iteration: 135', 'Train loss: 0.29318669')\n"
     ]
    },
    {
     "name": "stdout",
     "output_type": "stream",
     "text": [
      "('Epoch: 0/1', 'Iteration: 140', 'Train loss: 0.45734620')\n"
     ]
    },
    {
     "name": "stdout",
     "output_type": "stream",
     "text": [
      "('Epoch: 0/1', 'Iteration: 145', 'Train loss: 0.25778335')\n"
     ]
    },
    {
     "name": "stdout",
     "output_type": "stream",
     "text": [
      "('Epoch: 0/1', 'Iteration: 150', 'Train loss: 0.29316986')\n"
     ]
    },
    {
     "name": "stdout",
     "output_type": "stream",
     "text": [
      "Val acc: 0.40176553\n"
     ]
    },
    {
     "name": "stdout",
     "output_type": "stream",
     "text": [
      "('Epoch: 0/1', 'Iteration: 155', 'Train loss: 0.30783859')\n"
     ]
    },
    {
     "name": "stdout",
     "output_type": "stream",
     "text": [
      "('Epoch: 0/1', 'Iteration: 160', 'Train loss: 0.32101634')\n"
     ]
    },
    {
     "name": "stdout",
     "output_type": "stream",
     "text": [
      "('Epoch: 0/1', 'Iteration: 165', 'Train loss: 0.38417962')\n"
     ]
    },
    {
     "name": "stdout",
     "output_type": "stream",
     "text": [
      "('Epoch: 0/1', 'Iteration: 170', 'Train loss: 0.26107398')\n"
     ]
    },
    {
     "name": "stdout",
     "output_type": "stream",
     "text": [
      "('Epoch: 0/1', 'Iteration: 175', 'Train loss: 0.29475555')\n"
     ]
    },
    {
     "name": "stdout",
     "output_type": "stream",
     "text": [
      "Val acc: 0.40096551\n"
     ]
    },
    {
     "name": "stdout",
     "output_type": "stream",
     "text": [
      "('Epoch: 0/1', 'Iteration: 180', 'Train loss: 0.35925457')\n"
     ]
    },
    {
     "name": "stdout",
     "output_type": "stream",
     "text": [
      "('Epoch: 0/1', 'Iteration: 185', 'Train loss: 0.38105139')\n"
     ]
    },
    {
     "name": "stdout",
     "output_type": "stream",
     "text": [
      "('Epoch: 0/1', 'Iteration: 190', 'Train loss: 0.31836364')\n"
     ]
    },
    {
     "name": "stdout",
     "output_type": "stream",
     "text": [
      "('Epoch: 0/1', 'Iteration: 195', 'Train loss: 0.35662654')\n"
     ]
    },
    {
     "name": "stdout",
     "output_type": "stream",
     "text": [
      "('Epoch: 0/1', 'Iteration: 200', 'Train loss: 0.33124837')\n"
     ]
    },
    {
     "name": "stdout",
     "output_type": "stream",
     "text": [
      "Val acc: 0.40063450\n"
     ]
    },
    {
     "name": "stdout",
     "output_type": "stream",
     "text": [
      "('Epoch: 0/1', 'Iteration: 205', 'Train loss: 0.25764465')\n"
     ]
    },
    {
     "name": "stdout",
     "output_type": "stream",
     "text": [
      "('Epoch: 0/1', 'Iteration: 210', 'Train loss: 0.27855673')\n"
     ]
    },
    {
     "name": "stdout",
     "output_type": "stream",
     "text": [
      "('Epoch: 0/1', 'Iteration: 215', 'Train loss: 0.30087799')\n"
     ]
    },
    {
     "name": "stdout",
     "output_type": "stream",
     "text": [
      "('Epoch: 0/1', 'Iteration: 220', 'Train loss: 0.35529011')\n"
     ]
    },
    {
     "name": "stdout",
     "output_type": "stream",
     "text": [
      "('Epoch: 0/1', 'Iteration: 225', 'Train loss: 0.23799777')\n"
     ]
    },
    {
     "name": "stdout",
     "output_type": "stream",
     "text": [
      "Val acc: 0.40046898\n"
     ]
    },
    {
     "name": "stdout",
     "output_type": "stream",
     "text": [
      "('Epoch: 0/1', 'Iteration: 230', 'Train loss: 0.33293068')\n"
     ]
    },
    {
     "name": "stdout",
     "output_type": "stream",
     "text": [
      "('Epoch: 0/1', 'Iteration: 235', 'Train loss: 0.32486221')\n"
     ]
    },
    {
     "name": "stdout",
     "output_type": "stream",
     "text": [
      "('Epoch: 0/1', 'Iteration: 240', 'Train loss: 0.34187609')\n"
     ]
    },
    {
     "name": "stdout",
     "output_type": "stream",
     "text": [
      "('Epoch: 0/1', 'Iteration: 245', 'Train loss: 0.33424360')\n"
     ]
    },
    {
     "name": "stdout",
     "output_type": "stream",
     "text": [
      "('Epoch: 0/1', 'Iteration: 250', 'Train loss: 0.34186769')\n"
     ]
    },
    {
     "name": "stdout",
     "output_type": "stream",
     "text": [
      "Val acc: 0.40038621\n"
     ]
    },
    {
     "name": "stdout",
     "output_type": "stream",
     "text": [
      "('Epoch: 0/1', 'Iteration: 255', 'Train loss: 0.27993003')\n"
     ]
    },
    {
     "name": "stdout",
     "output_type": "stream",
     "text": [
      "('Epoch: 0/1', 'Iteration: 260', 'Train loss: 0.30184180')\n"
     ]
    },
    {
     "name": "stdout",
     "output_type": "stream",
     "text": [
      "('Epoch: 0/1', 'Iteration: 265', 'Train loss: 0.37092054')\n"
     ]
    },
    {
     "name": "stdout",
     "output_type": "stream",
     "text": [
      "('Epoch: 0/1', 'Iteration: 270', 'Train loss: 0.25180975')\n"
     ]
    },
    {
     "name": "stdout",
     "output_type": "stream",
     "text": [
      "('Epoch: 0/1', 'Iteration: 275', 'Train loss: 0.25096115')\n"
     ]
    },
    {
     "name": "stdout",
     "output_type": "stream",
     "text": [
      "Val acc: 0.40044138\n"
     ]
    },
    {
     "name": "stdout",
     "output_type": "stream",
     "text": [
      "('Epoch: 0/1', 'Iteration: 280', 'Train loss: 0.25879472')\n"
     ]
    },
    {
     "name": "stdout",
     "output_type": "stream",
     "text": [
      "('Epoch: 0/1', 'Iteration: 285', 'Train loss: 0.30713636')\n"
     ]
    },
    {
     "name": "stdout",
     "output_type": "stream",
     "text": [
      "('Epoch: 0/1', 'Iteration: 290', 'Train loss: 0.24420023')\n"
     ]
    },
    {
     "name": "stdout",
     "output_type": "stream",
     "text": [
      "('Epoch: 0/1', 'Iteration: 295', 'Train loss: 0.28970033')\n"
     ]
    },
    {
     "name": "stdout",
     "output_type": "stream",
     "text": [
      "('Epoch: 0/1', 'Iteration: 300', 'Train loss: 0.25052440')\n"
     ]
    },
    {
     "name": "stdout",
     "output_type": "stream",
     "text": [
      "Val acc: 0.40033105\n"
     ]
    },
    {
     "name": "stdout",
     "output_type": "stream",
     "text": [
      "('Epoch: 0/1', 'Iteration: 305', 'Train loss: 0.32041895')\n"
     ]
    },
    {
     "name": "stdout",
     "output_type": "stream",
     "text": [
      "('Epoch: 0/1', 'Iteration: 310', 'Train loss: 0.31604630')\n"
     ]
    },
    {
     "name": "stdout",
     "output_type": "stream",
     "text": [
      "('Epoch: 0/1', 'Iteration: 315', 'Train loss: 0.28226894')\n"
     ]
    },
    {
     "name": "stdout",
     "output_type": "stream",
     "text": [
      "('Epoch: 0/1', 'Iteration: 320', 'Train loss: 0.25723866')\n"
     ]
    },
    {
     "name": "stdout",
     "output_type": "stream",
     "text": [
      "('Epoch: 0/1', 'Iteration: 325', 'Train loss: 0.26193991')\n"
     ]
    },
    {
     "name": "stdout",
     "output_type": "stream",
     "text": [
      "Val acc: 0.40030345\n"
     ]
    },
    {
     "name": "stdout",
     "output_type": "stream",
     "text": [
      "('Epoch: 0/1', 'Iteration: 330', 'Train loss: 0.23343085')\n"
     ]
    },
    {
     "name": "stdout",
     "output_type": "stream",
     "text": [
      "('Epoch: 0/1', 'Iteration: 335', 'Train loss: 0.30833545')\n"
     ]
    },
    {
     "name": "stdout",
     "output_type": "stream",
     "text": [
      "('Epoch: 0/1', 'Iteration: 340', 'Train loss: 0.24430624')\n"
     ]
    },
    {
     "name": "stdout",
     "output_type": "stream",
     "text": [
      "('Epoch: 0/1', 'Iteration: 345', 'Train loss: 0.33552983')\n"
     ]
    },
    {
     "name": "stdout",
     "output_type": "stream",
     "text": [
      "('Epoch: 0/1', 'Iteration: 350', 'Train loss: 0.29930612')\n"
     ]
    },
    {
     "name": "stdout",
     "output_type": "stream",
     "text": [
      "Val acc: 0.40030348\n"
     ]
    },
    {
     "name": "stdout",
     "output_type": "stream",
     "text": [
      "('Epoch: 0/1', 'Iteration: 355', 'Train loss: 0.24231391')\n"
     ]
    },
    {
     "name": "stdout",
     "output_type": "stream",
     "text": [
      "('Epoch: 0/1', 'Iteration: 360', 'Train loss: 0.26049861')\n"
     ]
    },
    {
     "name": "stdout",
     "output_type": "stream",
     "text": [
      "('Epoch: 0/1', 'Iteration: 365', 'Train loss: 0.26844710')\n"
     ]
    },
    {
     "name": "stdout",
     "output_type": "stream",
     "text": [
      "('Epoch: 0/1', 'Iteration: 370', 'Train loss: 0.27511188')\n"
     ]
    },
    {
     "name": "stdout",
     "output_type": "stream",
     "text": [
      "('Epoch: 0/1', 'Iteration: 375', 'Train loss: 0.27605000')\n"
     ]
    },
    {
     "name": "stdout",
     "output_type": "stream",
     "text": [
      "Val acc: 0.40030345\n"
     ]
    },
    {
     "name": "stdout",
     "output_type": "stream",
     "text": [
      "('Epoch: 0/1', 'Iteration: 380', 'Train loss: 0.34731245')\n"
     ]
    },
    {
     "name": "stdout",
     "output_type": "stream",
     "text": [
      "('Epoch: 0/1', 'Iteration: 385', 'Train loss: 0.26558039')\n"
     ]
    },
    {
     "name": "stdout",
     "output_type": "stream",
     "text": [
      "('Epoch: 0/1', 'Iteration: 390', 'Train loss: 0.28584507')\n"
     ]
    },
    {
     "name": "stdout",
     "output_type": "stream",
     "text": [
      "('Epoch: 0/1', 'Iteration: 395', 'Train loss: 0.22549254')\n"
     ]
    },
    {
     "name": "stdout",
     "output_type": "stream",
     "text": [
      "('Epoch: 0/1', 'Iteration: 400', 'Train loss: 0.21480845')\n"
     ]
    },
    {
     "name": "stdout",
     "output_type": "stream",
     "text": [
      "Val acc: 0.40023449\n"
     ]
    },
    {
     "name": "stdout",
     "output_type": "stream",
     "text": [
      "('Epoch: 0/1', 'Iteration: 405', 'Train loss: 0.29011646')\n"
     ]
    },
    {
     "name": "stdout",
     "output_type": "stream",
     "text": [
      "('Epoch: 0/1', 'Iteration: 410', 'Train loss: 0.26437885')\n"
     ]
    },
    {
     "name": "stdout",
     "output_type": "stream",
     "text": [
      "('Epoch: 0/1', 'Iteration: 415', 'Train loss: 0.25896803')\n"
     ]
    },
    {
     "name": "stdout",
     "output_type": "stream",
     "text": [
      "('Epoch: 0/1', 'Iteration: 420', 'Train loss: 0.21974340')\n"
     ]
    },
    {
     "name": "stdout",
     "output_type": "stream",
     "text": [
      "('Epoch: 0/1', 'Iteration: 425', 'Train loss: 0.30190361')\n"
     ]
    },
    {
     "name": "stdout",
     "output_type": "stream",
     "text": [
      "Val acc: 0.40022069\n"
     ]
    },
    {
     "name": "stdout",
     "output_type": "stream",
     "text": [
      "('Epoch: 0/1', 'Iteration: 430', 'Train loss: 0.25072262')\n"
     ]
    },
    {
     "name": "stdout",
     "output_type": "stream",
     "text": [
      "('Epoch: 0/1', 'Iteration: 435', 'Train loss: 0.31042448')\n"
     ]
    },
    {
     "name": "stdout",
     "output_type": "stream",
     "text": [
      "('Epoch: 0/1', 'Iteration: 440', 'Train loss: 0.26490602')\n"
     ]
    },
    {
     "name": "stdout",
     "output_type": "stream",
     "text": [
      "('Epoch: 0/1', 'Iteration: 445', 'Train loss: 0.29328057')\n"
     ]
    },
    {
     "name": "stdout",
     "output_type": "stream",
     "text": [
      "('Epoch: 0/1', 'Iteration: 450', 'Train loss: 0.24145874')\n"
     ]
    },
    {
     "name": "stdout",
     "output_type": "stream",
     "text": [
      "Val acc: 0.40022069\n"
     ]
    },
    {
     "name": "stdout",
     "output_type": "stream",
     "text": [
      "('Epoch: 0/1', 'Iteration: 455', 'Train loss: 0.23314734')\n"
     ]
    },
    {
     "name": "stdout",
     "output_type": "stream",
     "text": [
      "('Epoch: 0/1', 'Iteration: 460', 'Train loss: 0.25229865')\n"
     ]
    },
    {
     "name": "stdout",
     "output_type": "stream",
     "text": [
      "('Epoch: 0/1', 'Iteration: 465', 'Train loss: 0.26747394')\n"
     ]
    },
    {
     "name": "stdout",
     "output_type": "stream",
     "text": [
      "('Epoch: 0/1', 'Iteration: 470', 'Train loss: 0.27922708')\n"
     ]
    },
    {
     "name": "stdout",
     "output_type": "stream",
     "text": [
      "('Epoch: 0/1', 'Iteration: 475', 'Train loss: 0.24330485')\n"
     ]
    },
    {
     "name": "stdout",
     "output_type": "stream",
     "text": [
      "Val acc: 0.40017930\n"
     ]
    },
    {
     "name": "stdout",
     "output_type": "stream",
     "text": [
      "('Epoch: 0/1', 'Iteration: 480', 'Train loss: 0.29615486')\n"
     ]
    },
    {
     "name": "stdout",
     "output_type": "stream",
     "text": [
      "('Epoch: 0/1', 'Iteration: 485', 'Train loss: 0.27949163')\n"
     ]
    },
    {
     "name": "stdout",
     "output_type": "stream",
     "text": [
      "('Epoch: 0/1', 'Iteration: 490', 'Train loss: 0.32139367')\n"
     ]
    },
    {
     "name": "stdout",
     "output_type": "stream",
     "text": [
      "('Epoch: 0/1', 'Iteration: 495', 'Train loss: 0.33215669')\n"
     ]
    },
    {
     "name": "stdout",
     "output_type": "stream",
     "text": [
      "('Epoch: 0/1', 'Iteration: 500', 'Train loss: 0.33308640')\n"
     ]
    },
    {
     "name": "stdout",
     "output_type": "stream",
     "text": [
      "Val acc: 0.40013793\n"
     ]
    },
    {
     "name": "stdout",
     "output_type": "stream",
     "text": [
      "('Epoch: 0/1', 'Iteration: 505', 'Train loss: 0.36794934')\n"
     ]
    },
    {
     "name": "stdout",
     "output_type": "stream",
     "text": [
      "('Epoch: 0/1', 'Iteration: 510', 'Train loss: 0.25251019')\n"
     ]
    },
    {
     "name": "stdout",
     "output_type": "stream",
     "text": [
      "('Epoch: 0/1', 'Iteration: 515', 'Train loss: 0.25490600')\n"
     ]
    },
    {
     "name": "stdout",
     "output_type": "stream",
     "text": [
      "('Epoch: 0/1', 'Iteration: 520', 'Train loss: 0.30585790')\n"
     ]
    },
    {
     "name": "stdout",
     "output_type": "stream",
     "text": [
      "('Epoch: 0/1', 'Iteration: 525', 'Train loss: 0.28092650')\n"
     ]
    },
    {
     "name": "stdout",
     "output_type": "stream",
     "text": [
      "Val acc: 0.40015176\n"
     ]
    },
    {
     "name": "stdout",
     "output_type": "stream",
     "text": [
      "('Epoch: 0/1', 'Iteration: 530', 'Train loss: 0.28934190')\n"
     ]
    },
    {
     "name": "stdout",
     "output_type": "stream",
     "text": [
      "('Epoch: 0/1', 'Iteration: 535', 'Train loss: 0.29646999')\n"
     ]
    },
    {
     "name": "stdout",
     "output_type": "stream",
     "text": [
      "('Epoch: 0/1', 'Iteration: 540', 'Train loss: 0.27567059')\n"
     ]
    },
    {
     "name": "stdout",
     "output_type": "stream",
     "text": [
      "('Epoch: 0/1', 'Iteration: 545', 'Train loss: 0.27441135')\n"
     ]
    },
    {
     "name": "stdout",
     "output_type": "stream",
     "text": [
      "('Epoch: 0/1', 'Iteration: 550', 'Train loss: 0.30532655')\n"
     ]
    },
    {
     "name": "stdout",
     "output_type": "stream",
     "text": [
      "Val acc: 0.40015176\n"
     ]
    },
    {
     "name": "stdout",
     "output_type": "stream",
     "text": [
      "('Epoch: 0/1', 'Iteration: 555', 'Train loss: 0.24087121')\n"
     ]
    },
    {
     "name": "stdout",
     "output_type": "stream",
     "text": [
      "('Epoch: 0/1', 'Iteration: 560', 'Train loss: 0.26753339')\n"
     ]
    },
    {
     "name": "stdout",
     "output_type": "stream",
     "text": [
      "('Epoch: 0/1', 'Iteration: 565', 'Train loss: 0.28613210')\n"
     ]
    },
    {
     "name": "stdout",
     "output_type": "stream",
     "text": [
      "('Epoch: 0/1', 'Iteration: 570', 'Train loss: 0.27200797')\n"
     ]
    },
    {
     "name": "stdout",
     "output_type": "stream",
     "text": [
      "('Epoch: 0/1', 'Iteration: 575', 'Train loss: 0.28954417')\n"
     ]
    },
    {
     "name": "stdout",
     "output_type": "stream",
     "text": [
      "Val acc: 0.40015176\n"
     ]
    },
    {
     "name": "stdout",
     "output_type": "stream",
     "text": [
      "('Epoch: 0/1', 'Iteration: 580', 'Train loss: 0.26349118')\n"
     ]
    },
    {
     "name": "stdout",
     "output_type": "stream",
     "text": [
      "('Epoch: 0/1', 'Iteration: 585', 'Train loss: 0.24620935')\n"
     ]
    },
    {
     "name": "stdout",
     "output_type": "stream",
     "text": [
      "('Epoch: 0/1', 'Iteration: 590', 'Train loss: 0.23640628')\n"
     ]
    },
    {
     "name": "stdout",
     "output_type": "stream",
     "text": [
      "('Epoch: 0/1', 'Iteration: 595', 'Train loss: 0.31425133')\n"
     ]
    },
    {
     "name": "stdout",
     "output_type": "stream",
     "text": [
      "('Epoch: 0/1', 'Iteration: 600', 'Train loss: 0.27651331')\n"
     ]
    },
    {
     "name": "stdout",
     "output_type": "stream",
     "text": [
      "Val acc: 0.40016553\n"
     ]
    },
    {
     "name": "stdout",
     "output_type": "stream",
     "text": [
      "('Epoch: 0/1', 'Iteration: 605', 'Train loss: 0.25238937')\n"
     ]
    },
    {
     "name": "stdout",
     "output_type": "stream",
     "text": [
      "('Epoch: 0/1', 'Iteration: 610', 'Train loss: 0.27294871')\n"
     ]
    },
    {
     "name": "stdout",
     "output_type": "stream",
     "text": [
      "('Epoch: 0/1', 'Iteration: 615', 'Train loss: 0.29001161')\n"
     ]
    },
    {
     "name": "stdout",
     "output_type": "stream",
     "text": [
      "('Epoch: 0/1', 'Iteration: 620', 'Train loss: 0.20132978')\n"
     ]
    },
    {
     "name": "stdout",
     "output_type": "stream",
     "text": [
      "('Epoch: 0/1', 'Iteration: 625', 'Train loss: 0.23404652')\n"
     ]
    },
    {
     "name": "stdout",
     "output_type": "stream",
     "text": [
      "Val acc: 0.40015176\n"
     ]
    },
    {
     "name": "stdout",
     "output_type": "stream",
     "text": [
      "('Epoch: 0/1', 'Iteration: 630', 'Train loss: 0.17795725')\n"
     ]
    },
    {
     "name": "stdout",
     "output_type": "stream",
     "text": [
      "('Epoch: 0/1', 'Iteration: 635', 'Train loss: 0.31761131')\n"
     ]
    },
    {
     "name": "stdout",
     "output_type": "stream",
     "text": [
      "('Epoch: 0/1', 'Iteration: 640', 'Train loss: 0.22737932')\n"
     ]
    },
    {
     "name": "stdout",
     "output_type": "stream",
     "text": [
      "('Epoch: 0/1', 'Iteration: 645', 'Train loss: 0.27945381')\n"
     ]
    },
    {
     "name": "stdout",
     "output_type": "stream",
     "text": [
      "('Epoch: 0/1', 'Iteration: 650', 'Train loss: 0.21612792')\n"
     ]
    },
    {
     "name": "stdout",
     "output_type": "stream",
     "text": [
      "Val acc: 0.40013790\n"
     ]
    },
    {
     "name": "stdout",
     "output_type": "stream",
     "text": [
      "('Epoch: 0/1', 'Iteration: 655', 'Train loss: 0.24549046')\n"
     ]
    },
    {
     "name": "stdout",
     "output_type": "stream",
     "text": [
      "('Epoch: 0/1', 'Iteration: 660', 'Train loss: 0.32162175')\n"
     ]
    },
    {
     "name": "stdout",
     "output_type": "stream",
     "text": [
      "('Epoch: 0/1', 'Iteration: 665', 'Train loss: 0.29992157')\n"
     ]
    },
    {
     "name": "stdout",
     "output_type": "stream",
     "text": [
      "('Epoch: 0/1', 'Iteration: 670', 'Train loss: 0.25595310')\n"
     ]
    },
    {
     "name": "stdout",
     "output_type": "stream",
     "text": [
      "('Epoch: 0/1', 'Iteration: 675', 'Train loss: 0.27922118')\n"
     ]
    },
    {
     "name": "stdout",
     "output_type": "stream",
     "text": [
      "Val acc: 0.40015176\n"
     ]
    },
    {
     "name": "stdout",
     "output_type": "stream",
     "text": [
      "('Epoch: 0/1', 'Iteration: 680', 'Train loss: 0.24091074')\n"
     ]
    },
    {
     "name": "stdout",
     "output_type": "stream",
     "text": [
      "('Epoch: 0/1', 'Iteration: 685', 'Train loss: 0.24902198')\n"
     ]
    },
    {
     "name": "stdout",
     "output_type": "stream",
     "text": [
      "('Epoch: 0/1', 'Iteration: 690', 'Train loss: 0.30838788')\n"
     ]
    },
    {
     "name": "stdout",
     "output_type": "stream",
     "text": [
      "('Epoch: 0/1', 'Iteration: 695', 'Train loss: 0.29254946')\n"
     ]
    },
    {
     "name": "stdout",
     "output_type": "stream",
     "text": [
      "('Epoch: 0/1', 'Iteration: 700', 'Train loss: 0.23384345')\n"
     ]
    },
    {
     "name": "stdout",
     "output_type": "stream",
     "text": [
      "Val acc: 0.40015176\n"
     ]
    },
    {
     "name": "stdout",
     "output_type": "stream",
     "text": [
      "('Epoch: 0/1', 'Iteration: 705', 'Train loss: 0.24486870')\n"
     ]
    },
    {
     "name": "stdout",
     "output_type": "stream",
     "text": [
      "('Epoch: 0/1', 'Iteration: 710', 'Train loss: 0.27131388')\n"
     ]
    },
    {
     "name": "stdout",
     "output_type": "stream",
     "text": [
      "('Epoch: 0/1', 'Iteration: 715', 'Train loss: 0.27007529')\n"
     ]
    },
    {
     "name": "stdout",
     "output_type": "stream",
     "text": [
      "('Epoch: 0/1', 'Iteration: 720', 'Train loss: 0.28363690')\n"
     ]
    },
    {
     "name": "stdout",
     "output_type": "stream",
     "text": [
      "('Epoch: 0/1', 'Iteration: 725', 'Train loss: 0.29245651')\n"
     ]
    },
    {
     "name": "stdout",
     "output_type": "stream",
     "text": [
      "Val acc: 0.40015176\n"
     ]
    },
    {
     "name": "stdout",
     "output_type": "stream",
     "text": [
      "('Epoch: 0/1', 'Iteration: 730', 'Train loss: 0.26629788')\n"
     ]
    },
    {
     "name": "stdout",
     "output_type": "stream",
     "text": [
      "('Epoch: 0/1', 'Iteration: 735', 'Train loss: 0.24276221')\n"
     ]
    },
    {
     "name": "stdout",
     "output_type": "stream",
     "text": [
      "('Epoch: 0/1', 'Iteration: 740', 'Train loss: 0.33325014')\n"
     ]
    },
    {
     "name": "stdout",
     "output_type": "stream",
     "text": [
      "('Epoch: 0/1', 'Iteration: 745', 'Train loss: 0.28815383')\n"
     ]
    },
    {
     "name": "stdout",
     "output_type": "stream",
     "text": [
      "('Epoch: 0/1', 'Iteration: 750', 'Train loss: 0.22021064')\n"
     ]
    },
    {
     "name": "stdout",
     "output_type": "stream",
     "text": [
      "Val acc: 0.40015176\n"
     ]
    },
    {
     "name": "stdout",
     "output_type": "stream",
     "text": [
      "('Epoch: 0/1', 'Iteration: 755', 'Train loss: 0.24157034')\n"
     ]
    },
    {
     "name": "stdout",
     "output_type": "stream",
     "text": [
      "('Epoch: 0/1', 'Iteration: 760', 'Train loss: 0.22008689')\n"
     ]
    },
    {
     "name": "stdout",
     "output_type": "stream",
     "text": [
      "('Epoch: 0/1', 'Iteration: 765', 'Train loss: 0.27618325')\n"
     ]
    },
    {
     "name": "stdout",
     "output_type": "stream",
     "text": [
      "('Epoch: 0/1', 'Iteration: 770', 'Train loss: 0.23446867')\n"
     ]
    },
    {
     "name": "stdout",
     "output_type": "stream",
     "text": [
      "('Epoch: 0/1', 'Iteration: 775', 'Train loss: 0.30851468')\n"
     ]
    },
    {
     "name": "stdout",
     "output_type": "stream",
     "text": [
      "Val acc: 0.40015176\n"
     ]
    },
    {
     "name": "stdout",
     "output_type": "stream",
     "text": [
      "('Epoch: 0/1', 'Iteration: 780', 'Train loss: 0.29901883')\n"
     ]
    },
    {
     "name": "stdout",
     "output_type": "stream",
     "text": [
      "('Epoch: 0/1', 'Iteration: 785', 'Train loss: 0.25887445')\n"
     ]
    },
    {
     "name": "stdout",
     "output_type": "stream",
     "text": [
      "('Epoch: 0/1', 'Iteration: 790', 'Train loss: 0.27965358')\n"
     ]
    },
    {
     "name": "stdout",
     "output_type": "stream",
     "text": [
      "('Epoch: 0/1', 'Iteration: 795', 'Train loss: 0.26121759')\n"
     ]
    },
    {
     "name": "stdout",
     "output_type": "stream",
     "text": [
      "('Epoch: 0/1', 'Iteration: 800', 'Train loss: 0.26469293')\n"
     ]
    },
    {
     "name": "stdout",
     "output_type": "stream",
     "text": [
      "Val acc: 0.40016553\n"
     ]
    },
    {
     "name": "stdout",
     "output_type": "stream",
     "text": [
      "('Epoch: 0/1', 'Iteration: 805', 'Train loss: 0.27859914')\n"
     ]
    },
    {
     "name": "stdout",
     "output_type": "stream",
     "text": [
      "('Epoch: 0/1', 'Iteration: 810', 'Train loss: 0.25269249')\n"
     ]
    },
    {
     "name": "stdout",
     "output_type": "stream",
     "text": [
      "('Epoch: 0/1', 'Iteration: 815', 'Train loss: 0.25844547')\n"
     ]
    },
    {
     "name": "stdout",
     "output_type": "stream",
     "text": [
      "('Epoch: 0/1', 'Iteration: 820', 'Train loss: 0.25024754')\n"
     ]
    },
    {
     "name": "stdout",
     "output_type": "stream",
     "text": [
      "('Epoch: 0/1', 'Iteration: 825', 'Train loss: 0.25363433')\n"
     ]
    },
    {
     "name": "stdout",
     "output_type": "stream",
     "text": [
      "Val acc: 0.40016553\n"
     ]
    },
    {
     "name": "stdout",
     "output_type": "stream",
     "text": [
      "('Epoch: 0/1', 'Iteration: 830', 'Train loss: 0.25522816')\n"
     ]
    },
    {
     "name": "stdout",
     "output_type": "stream",
     "text": [
      "('Epoch: 0/1', 'Iteration: 835', 'Train loss: 0.25458431')\n"
     ]
    },
    {
     "name": "stdout",
     "output_type": "stream",
     "text": [
      "('Epoch: 0/1', 'Iteration: 840', 'Train loss: 0.25930035')\n"
     ]
    },
    {
     "name": "stdout",
     "output_type": "stream",
     "text": [
      "('Epoch: 0/1', 'Iteration: 845', 'Train loss: 0.25352725')\n"
     ]
    },
    {
     "name": "stdout",
     "output_type": "stream",
     "text": [
      "('Epoch: 0/1', 'Iteration: 850', 'Train loss: 0.25629070')\n"
     ]
    },
    {
     "name": "stdout",
     "output_type": "stream",
     "text": [
      "Val acc: 0.40016553\n"
     ]
    },
    {
     "name": "stdout",
     "output_type": "stream",
     "text": [
      "('Epoch: 0/1', 'Iteration: 855', 'Train loss: 0.25175613')\n"
     ]
    },
    {
     "name": "stdout",
     "output_type": "stream",
     "text": [
      "('Epoch: 0/1', 'Iteration: 860', 'Train loss: 0.26395950')\n"
     ]
    },
    {
     "name": "stdout",
     "output_type": "stream",
     "text": [
      "('Epoch: 0/1', 'Iteration: 865', 'Train loss: 0.23839161')\n"
     ]
    },
    {
     "name": "stdout",
     "output_type": "stream",
     "text": [
      "('Epoch: 0/1', 'Iteration: 870', 'Train loss: 0.25558466')\n"
     ]
    },
    {
     "name": "stdout",
     "output_type": "stream",
     "text": [
      "('Epoch: 0/1', 'Iteration: 875', 'Train loss: 0.26352876')\n"
     ]
    },
    {
     "name": "stdout",
     "output_type": "stream",
     "text": [
      "Val acc: 0.40016553\n"
     ]
    },
    {
     "name": "stdout",
     "output_type": "stream",
     "text": [
      "('Epoch: 0/1', 'Iteration: 880', 'Train loss: 0.25682673')\n"
     ]
    },
    {
     "name": "stdout",
     "output_type": "stream",
     "text": [
      "('Epoch: 0/1', 'Iteration: 885', 'Train loss: 0.25333259')\n"
     ]
    },
    {
     "name": "stdout",
     "output_type": "stream",
     "text": [
      "('Epoch: 0/1', 'Iteration: 890', 'Train loss: 0.26404822')\n"
     ]
    },
    {
     "name": "stdout",
     "output_type": "stream",
     "text": [
      "('Epoch: 0/1', 'Iteration: 895', 'Train loss: 0.23310301')\n"
     ]
    },
    {
     "name": "stdout",
     "output_type": "stream",
     "text": [
      "('Epoch: 0/1', 'Iteration: 900', 'Train loss: 0.28241661')\n"
     ]
    },
    {
     "name": "stdout",
     "output_type": "stream",
     "text": [
      "Val acc: 0.40016553\n"
     ]
    },
    {
     "name": "stdout",
     "output_type": "stream",
     "text": [
      "('Epoch: 0/1', 'Iteration: 905', 'Train loss: 0.25594425')\n"
     ]
    },
    {
     "name": "stdout",
     "output_type": "stream",
     "text": [
      "('Epoch: 0/1', 'Iteration: 910', 'Train loss: 0.26844800')\n"
     ]
    },
    {
     "name": "stdout",
     "output_type": "stream",
     "text": [
      "('Epoch: 0/1', 'Iteration: 915', 'Train loss: 0.24988362')\n"
     ]
    },
    {
     "name": "stdout",
     "output_type": "stream",
     "text": [
      "('Epoch: 0/1', 'Iteration: 920', 'Train loss: 0.24079251')\n"
     ]
    },
    {
     "name": "stdout",
     "output_type": "stream",
     "text": [
      "('Epoch: 0/1', 'Iteration: 925', 'Train loss: 0.26037139')\n"
     ]
    },
    {
     "name": "stdout",
     "output_type": "stream",
     "text": [
      "Val acc: 0.40016553\n"
     ]
    },
    {
     "name": "stdout",
     "output_type": "stream",
     "text": [
      "('Epoch: 0/1', 'Iteration: 930', 'Train loss: 0.27175903')\n"
     ]
    },
    {
     "name": "stdout",
     "output_type": "stream",
     "text": [
      "('Epoch: 0/1', 'Iteration: 935', 'Train loss: 0.25192508')\n"
     ]
    },
    {
     "name": "stdout",
     "output_type": "stream",
     "text": [
      "('Epoch: 0/1', 'Iteration: 940', 'Train loss: 0.23562257')\n"
     ]
    },
    {
     "name": "stdout",
     "output_type": "stream",
     "text": [
      "('Epoch: 0/1', 'Iteration: 945', 'Train loss: 0.27928632')\n"
     ]
    },
    {
     "name": "stdout",
     "output_type": "stream",
     "text": [
      "('Epoch: 0/1', 'Iteration: 950', 'Train loss: 0.24179384')\n"
     ]
    },
    {
     "name": "stdout",
     "output_type": "stream",
     "text": [
      "Val acc: 0.40016553\n"
     ]
    },
    {
     "name": "stdout",
     "output_type": "stream",
     "text": [
      "('Epoch: 0/1', 'Iteration: 955', 'Train loss: 0.26587856')\n"
     ]
    },
    {
     "name": "stdout",
     "output_type": "stream",
     "text": [
      "('Epoch: 0/1', 'Iteration: 960', 'Train loss: 0.25728115')\n"
     ]
    },
    {
     "name": "stdout",
     "output_type": "stream",
     "text": [
      "('Epoch: 0/1', 'Iteration: 965', 'Train loss: 0.25067326')\n"
     ]
    },
    {
     "name": "stdout",
     "output_type": "stream",
     "text": [
      "('Epoch: 0/1', 'Iteration: 970', 'Train loss: 0.25703654')\n"
     ]
    },
    {
     "name": "stdout",
     "output_type": "stream",
     "text": [
      "('Epoch: 0/1', 'Iteration: 975', 'Train loss: 0.26013184')\n"
     ]
    },
    {
     "name": "stdout",
     "output_type": "stream",
     "text": [
      "Val acc: 0.40016553\n"
     ]
    },
    {
     "name": "stdout",
     "output_type": "stream",
     "text": [
      "('Epoch: 0/1', 'Iteration: 980', 'Train loss: 0.26541626')\n"
     ]
    },
    {
     "name": "stdout",
     "output_type": "stream",
     "text": [
      "('Epoch: 0/1', 'Iteration: 985', 'Train loss: 0.24727722')\n"
     ]
    },
    {
     "name": "stdout",
     "output_type": "stream",
     "text": [
      "('Epoch: 0/1', 'Iteration: 990', 'Train loss: 0.24376041')\n"
     ]
    },
    {
     "name": "stdout",
     "output_type": "stream",
     "text": [
      "('Epoch: 0/1', 'Iteration: 995', 'Train loss: 0.27009717')\n"
     ]
    },
    {
     "name": "stdout",
     "output_type": "stream",
     "text": [
      "('Epoch: 0/1', 'Iteration: 1000', 'Train loss: 0.24763836')\n"
     ]
    },
    {
     "name": "stdout",
     "output_type": "stream",
     "text": [
      "Val acc: 0.40016553\n"
     ]
    },
    {
     "name": "stdout",
     "output_type": "stream",
     "text": [
      "('Epoch: 0/1', 'Iteration: 1005', 'Train loss: 0.24950290')\n"
     ]
    },
    {
     "name": "stdout",
     "output_type": "stream",
     "text": [
      "('Epoch: 0/1', 'Iteration: 1010', 'Train loss: 0.27101415')\n"
     ]
    },
    {
     "name": "stdout",
     "output_type": "stream",
     "text": [
      "('Epoch: 0/1', 'Iteration: 1015', 'Train loss: 0.27365178')\n"
     ]
    },
    {
     "name": "stdout",
     "output_type": "stream",
     "text": [
      "('Epoch: 0/1', 'Iteration: 1020', 'Train loss: 0.24620837')\n"
     ]
    },
    {
     "name": "stdout",
     "output_type": "stream",
     "text": [
      "('Epoch: 0/1', 'Iteration: 1025', 'Train loss: 0.24990952')\n"
     ]
    },
    {
     "name": "stdout",
     "output_type": "stream",
     "text": [
      "Val acc: 0.40016553\n"
     ]
    },
    {
     "name": "stdout",
     "output_type": "stream",
     "text": [
      "('Epoch: 0/1', 'Iteration: 1030', 'Train loss: 0.26081339')\n"
     ]
    },
    {
     "name": "stdout",
     "output_type": "stream",
     "text": [
      "('Epoch: 0/1', 'Iteration: 1035', 'Train loss: 0.25584567')\n"
     ]
    },
    {
     "name": "stdout",
     "output_type": "stream",
     "text": [
      "('Epoch: 0/1', 'Iteration: 1040', 'Train loss: 0.25725803')\n"
     ]
    },
    {
     "name": "stdout",
     "output_type": "stream",
     "text": [
      "('Epoch: 0/1', 'Iteration: 1045', 'Train loss: 0.23789194')\n"
     ]
    },
    {
     "name": "stdout",
     "output_type": "stream",
     "text": [
      "('Epoch: 0/1', 'Iteration: 1050', 'Train loss: 0.22605225')\n"
     ]
    },
    {
     "name": "stdout",
     "output_type": "stream",
     "text": [
      "Val acc: 0.40016553\n"
     ]
    },
    {
     "name": "stdout",
     "output_type": "stream",
     "text": [
      "('Epoch: 0/1', 'Iteration: 1055', 'Train loss: 0.27349940')\n"
     ]
    },
    {
     "name": "stdout",
     "output_type": "stream",
     "text": [
      "('Epoch: 0/1', 'Iteration: 1060', 'Train loss: 0.26960188')\n"
     ]
    },
    {
     "name": "stdout",
     "output_type": "stream",
     "text": [
      "('Epoch: 0/1', 'Iteration: 1065', 'Train loss: 0.24787338')\n"
     ]
    },
    {
     "name": "stdout",
     "output_type": "stream",
     "text": [
      "('Epoch: 0/1', 'Iteration: 1070', 'Train loss: 0.26692933')\n"
     ]
    },
    {
     "name": "stdout",
     "output_type": "stream",
     "text": [
      "('Epoch: 0/1', 'Iteration: 1075', 'Train loss: 0.25201574')\n"
     ]
    },
    {
     "name": "stdout",
     "output_type": "stream",
     "text": [
      "Val acc: 0.40016553\n"
     ]
    },
    {
     "name": "stdout",
     "output_type": "stream",
     "text": [
      "('Epoch: 0/1', 'Iteration: 1080', 'Train loss: 0.26135650')\n"
     ]
    },
    {
     "name": "stdout",
     "output_type": "stream",
     "text": [
      "('Epoch: 0/1', 'Iteration: 1085', 'Train loss: 0.25443223')\n"
     ]
    },
    {
     "name": "stdout",
     "output_type": "stream",
     "text": [
      "('Epoch: 0/1', 'Iteration: 1090', 'Train loss: 0.23507302')\n"
     ]
    },
    {
     "name": "stdout",
     "output_type": "stream",
     "text": [
      "('Epoch: 0/1', 'Iteration: 1095', 'Train loss: 0.27406299')\n"
     ]
    },
    {
     "name": "stdout",
     "output_type": "stream",
     "text": [
      "('Epoch: 0/1', 'Iteration: 1100', 'Train loss: 0.23351249')\n"
     ]
    },
    {
     "name": "stdout",
     "output_type": "stream",
     "text": [
      "Val acc: 0.40016553\n"
     ]
    },
    {
     "name": "stdout",
     "output_type": "stream",
     "text": [
      "('Epoch: 0/1', 'Iteration: 1105', 'Train loss: 0.25221485')\n"
     ]
    },
    {
     "name": "stdout",
     "output_type": "stream",
     "text": [
      "('Epoch: 0/1', 'Iteration: 1110', 'Train loss: 0.22166178')\n"
     ]
    },
    {
     "name": "stdout",
     "output_type": "stream",
     "text": [
      "('Epoch: 0/1', 'Iteration: 1115', 'Train loss: 0.27557361')\n"
     ]
    },
    {
     "name": "stdout",
     "output_type": "stream",
     "text": [
      "('Epoch: 0/1', 'Iteration: 1120', 'Train loss: 0.27119604')\n"
     ]
    },
    {
     "name": "stdout",
     "output_type": "stream",
     "text": [
      "('Epoch: 0/1', 'Iteration: 1125', 'Train loss: 0.26410395')\n"
     ]
    },
    {
     "name": "stdout",
     "output_type": "stream",
     "text": [
      "Val acc: 0.40016553\n"
     ]
    },
    {
     "name": "stdout",
     "output_type": "stream",
     "text": [
      "('Epoch: 0/1', 'Iteration: 1130', 'Train loss: 0.26817197')\n"
     ]
    },
    {
     "name": "stdout",
     "output_type": "stream",
     "text": [
      "('Epoch: 0/1', 'Iteration: 1135', 'Train loss: 0.27227902')\n"
     ]
    },
    {
     "name": "stdout",
     "output_type": "stream",
     "text": [
      "('Epoch: 0/1', 'Iteration: 1140', 'Train loss: 0.25600475')\n"
     ]
    },
    {
     "name": "stdout",
     "output_type": "stream",
     "text": [
      "('Epoch: 0/1', 'Iteration: 1145', 'Train loss: 0.25305375')\n"
     ]
    },
    {
     "name": "stdout",
     "output_type": "stream",
     "text": [
      "('Epoch: 0/1', 'Iteration: 1150', 'Train loss: 0.25565919')\n"
     ]
    },
    {
     "name": "stdout",
     "output_type": "stream",
     "text": [
      "Val acc: 0.40016553\n"
     ]
    },
    {
     "name": "stdout",
     "output_type": "stream",
     "text": [
      "('Epoch: 0/1', 'Iteration: 1155', 'Train loss: 0.25785530')\n"
     ]
    },
    {
     "name": "stdout",
     "output_type": "stream",
     "text": [
      "('Epoch: 0/1', 'Iteration: 1160', 'Train loss: 0.25849819')\n"
     ]
    },
    {
     "name": "stdout",
     "output_type": "stream",
     "text": [
      "('Epoch: 0/1', 'Iteration: 1165', 'Train loss: 0.25782624')\n"
     ]
    },
    {
     "name": "stdout",
     "output_type": "stream",
     "text": [
      "('Epoch: 0/1', 'Iteration: 1170', 'Train loss: 0.24906333')\n"
     ]
    },
    {
     "name": "stdout",
     "output_type": "stream",
     "text": [
      "('Epoch: 0/1', 'Iteration: 1175', 'Train loss: 0.24224676')\n"
     ]
    },
    {
     "name": "stdout",
     "output_type": "stream",
     "text": [
      "Val acc: 0.40016553\n"
     ]
    },
    {
     "name": "stdout",
     "output_type": "stream",
     "text": [
      "('Epoch: 0/1', 'Iteration: 1180', 'Train loss: 0.25689095')\n"
     ]
    },
    {
     "name": "stdout",
     "output_type": "stream",
     "text": [
      "('Epoch: 0/1', 'Iteration: 1185', 'Train loss: 0.26218078')\n"
     ]
    },
    {
     "name": "stdout",
     "output_type": "stream",
     "text": [
      "('Epoch: 0/1', 'Iteration: 1190', 'Train loss: 0.28099838')\n"
     ]
    },
    {
     "name": "stdout",
     "output_type": "stream",
     "text": [
      "('Epoch: 0/1', 'Iteration: 1195', 'Train loss: 0.25442871')\n"
     ]
    },
    {
     "name": "stdout",
     "output_type": "stream",
     "text": [
      "('Epoch: 0/1', 'Iteration: 1200', 'Train loss: 0.23980942')\n"
     ]
    },
    {
     "name": "stdout",
     "output_type": "stream",
     "text": [
      "Val acc: 0.40016553\n"
     ]
    },
    {
     "name": "stdout",
     "output_type": "stream",
     "text": [
      "('Epoch: 0/1', 'Iteration: 1205', 'Train loss: 0.23370516')\n"
     ]
    },
    {
     "name": "stdout",
     "output_type": "stream",
     "text": [
      "('Epoch: 0/1', 'Iteration: 1210', 'Train loss: 0.24746014')\n"
     ]
    },
    {
     "name": "stdout",
     "output_type": "stream",
     "text": [
      "('Epoch: 0/1', 'Iteration: 1215', 'Train loss: 0.24227139')\n"
     ]
    },
    {
     "name": "stdout",
     "output_type": "stream",
     "text": [
      "('Epoch: 0/1', 'Iteration: 1220', 'Train loss: 0.26039320')\n"
     ]
    },
    {
     "name": "stdout",
     "output_type": "stream",
     "text": [
      "('Epoch: 0/1', 'Iteration: 1225', 'Train loss: 0.23583834')\n"
     ]
    },
    {
     "name": "stdout",
     "output_type": "stream",
     "text": [
      "Val acc: 0.40016553\n"
     ]
    },
    {
     "name": "stdout",
     "output_type": "stream",
     "text": [
      "('Epoch: 0/1', 'Iteration: 1230', 'Train loss: 0.26682538')\n"
     ]
    },
    {
     "name": "stdout",
     "output_type": "stream",
     "text": [
      "('Epoch: 0/1', 'Iteration: 1235', 'Train loss: 0.26196638')\n"
     ]
    },
    {
     "name": "stdout",
     "output_type": "stream",
     "text": [
      "('Epoch: 0/1', 'Iteration: 1240', 'Train loss: 0.26221362')\n"
     ]
    },
    {
     "name": "stdout",
     "output_type": "stream",
     "text": [
      "('Epoch: 0/1', 'Iteration: 1245', 'Train loss: 0.27225229')\n"
     ]
    },
    {
     "name": "stdout",
     "output_type": "stream",
     "text": [
      "('Epoch: 0/1', 'Iteration: 1250', 'Train loss: 0.26551488')\n"
     ]
    },
    {
     "name": "stdout",
     "output_type": "stream",
     "text": [
      "Val acc: 0.40016553\n"
     ]
    },
    {
     "name": "stdout",
     "output_type": "stream",
     "text": [
      "('Epoch: 0/1', 'Iteration: 1255', 'Train loss: 0.25937375')\n"
     ]
    },
    {
     "name": "stdout",
     "output_type": "stream",
     "text": [
      "('Epoch: 0/1', 'Iteration: 1260', 'Train loss: 0.25407863')\n"
     ]
    },
    {
     "name": "stdout",
     "output_type": "stream",
     "text": [
      "('Epoch: 0/1', 'Iteration: 1265', 'Train loss: 0.27929252')\n"
     ]
    },
    {
     "name": "stdout",
     "output_type": "stream",
     "text": [
      "('Epoch: 0/1', 'Iteration: 1270', 'Train loss: 0.26133630')\n"
     ]
    },
    {
     "name": "stdout",
     "output_type": "stream",
     "text": [
      "('Epoch: 0/1', 'Iteration: 1275', 'Train loss: 0.25394812')\n"
     ]
    },
    {
     "name": "stdout",
     "output_type": "stream",
     "text": [
      "Val acc: 0.40016553\n"
     ]
    },
    {
     "name": "stdout",
     "output_type": "stream",
     "text": [
      "('Epoch: 0/1', 'Iteration: 1280', 'Train loss: 0.26314986')\n"
     ]
    },
    {
     "name": "stdout",
     "output_type": "stream",
     "text": [
      "('Epoch: 0/1', 'Iteration: 1285', 'Train loss: 0.26814470')\n"
     ]
    },
    {
     "name": "stdout",
     "output_type": "stream",
     "text": [
      "('Epoch: 0/1', 'Iteration: 1290', 'Train loss: 0.26011911')\n"
     ]
    },
    {
     "name": "stdout",
     "output_type": "stream",
     "text": [
      "('Epoch: 0/1', 'Iteration: 1295', 'Train loss: 0.26689616')\n"
     ]
    },
    {
     "name": "stdout",
     "output_type": "stream",
     "text": [
      "('Epoch: 0/1', 'Iteration: 1300', 'Train loss: 0.24171603')\n"
     ]
    },
    {
     "name": "stdout",
     "output_type": "stream",
     "text": [
      "Val acc: 0.40016553\n"
     ]
    },
    {
     "name": "stdout",
     "output_type": "stream",
     "text": [
      "('Epoch: 0/1', 'Iteration: 1305', 'Train loss: 0.24655810')\n"
     ]
    },
    {
     "name": "stdout",
     "output_type": "stream",
     "text": [
      "('Epoch: 0/1', 'Iteration: 1310', 'Train loss: 0.27197397')\n"
     ]
    },
    {
     "name": "stdout",
     "output_type": "stream",
     "text": [
      "('Epoch: 0/1', 'Iteration: 1315', 'Train loss: 0.28008369')\n"
     ]
    },
    {
     "name": "stdout",
     "output_type": "stream",
     "text": [
      "('Epoch: 0/1', 'Iteration: 1320', 'Train loss: 0.25933105')\n"
     ]
    },
    {
     "name": "stdout",
     "output_type": "stream",
     "text": [
      "('Epoch: 0/1', 'Iteration: 1325', 'Train loss: 0.25708085')\n"
     ]
    },
    {
     "name": "stdout",
     "output_type": "stream",
     "text": [
      "Val acc: 0.40016553\n"
     ]
    },
    {
     "name": "stdout",
     "output_type": "stream",
     "text": [
      "('Epoch: 0/1', 'Iteration: 1330', 'Train loss: 0.25406748')\n"
     ]
    },
    {
     "name": "stdout",
     "output_type": "stream",
     "text": [
      "('Epoch: 0/1', 'Iteration: 1335', 'Train loss: 0.26734695')\n"
     ]
    },
    {
     "name": "stdout",
     "output_type": "stream",
     "text": [
      "('Epoch: 0/1', 'Iteration: 1340', 'Train loss: 0.25811312')\n"
     ]
    },
    {
     "name": "stdout",
     "output_type": "stream",
     "text": [
      "('Epoch: 0/1', 'Iteration: 1345', 'Train loss: 0.24929744')\n"
     ]
    },
    {
     "name": "stdout",
     "output_type": "stream",
     "text": [
      "('Epoch: 0/1', 'Iteration: 1350', 'Train loss: 0.24552040')\n"
     ]
    },
    {
     "name": "stdout",
     "output_type": "stream",
     "text": [
      "Val acc: 0.40016553\n"
     ]
    },
    {
     "name": "stdout",
     "output_type": "stream",
     "text": [
      "('Epoch: 0/1', 'Iteration: 1355', 'Train loss: 0.27570051')\n"
     ]
    },
    {
     "name": "stdout",
     "output_type": "stream",
     "text": [
      "('Epoch: 0/1', 'Iteration: 1360', 'Train loss: 0.27260476')\n"
     ]
    },
    {
     "name": "stdout",
     "output_type": "stream",
     "text": [
      "('Epoch: 0/1', 'Iteration: 1365', 'Train loss: 0.24382952')\n"
     ]
    },
    {
     "name": "stdout",
     "output_type": "stream",
     "text": [
      "('Epoch: 0/1', 'Iteration: 1370', 'Train loss: 0.26316935')\n"
     ]
    },
    {
     "name": "stdout",
     "output_type": "stream",
     "text": [
      "('Epoch: 0/1', 'Iteration: 1375', 'Train loss: 0.24851775')\n"
     ]
    },
    {
     "name": "stdout",
     "output_type": "stream",
     "text": [
      "Val acc: 0.40016553\n"
     ]
    },
    {
     "name": "stdout",
     "output_type": "stream",
     "text": [
      "('Epoch: 0/1', 'Iteration: 1380', 'Train loss: 0.24832526')\n"
     ]
    },
    {
     "name": "stdout",
     "output_type": "stream",
     "text": [
      "('Epoch: 0/1', 'Iteration: 1385', 'Train loss: 0.25608432')\n"
     ]
    },
    {
     "name": "stdout",
     "output_type": "stream",
     "text": [
      "('Epoch: 0/1', 'Iteration: 1390', 'Train loss: 0.25656608')\n"
     ]
    },
    {
     "name": "stdout",
     "output_type": "stream",
     "text": [
      "('Epoch: 0/1', 'Iteration: 1395', 'Train loss: 0.25321844')\n"
     ]
    },
    {
     "name": "stdout",
     "output_type": "stream",
     "text": [
      "('Epoch: 0/1', 'Iteration: 1400', 'Train loss: 0.24935272')\n"
     ]
    },
    {
     "name": "stdout",
     "output_type": "stream",
     "text": [
      "Val acc: 0.40016553\n"
     ]
    },
    {
     "name": "stdout",
     "output_type": "stream",
     "text": [
      "('Epoch: 0/1', 'Iteration: 1405', 'Train loss: 0.25536469')\n"
     ]
    },
    {
     "name": "stdout",
     "output_type": "stream",
     "text": [
      "('Epoch: 0/1', 'Iteration: 1410', 'Train loss: 0.24975282')\n"
     ]
    },
    {
     "name": "stdout",
     "output_type": "stream",
     "text": [
      "('Epoch: 0/1', 'Iteration: 1415', 'Train loss: 0.25600600')\n"
     ]
    },
    {
     "name": "stdout",
     "output_type": "stream",
     "text": [
      "('Epoch: 0/1', 'Iteration: 1420', 'Train loss: 0.25388387')\n"
     ]
    },
    {
     "name": "stdout",
     "output_type": "stream",
     "text": [
      "('Epoch: 0/1', 'Iteration: 1425', 'Train loss: 0.24870759')\n"
     ]
    },
    {
     "name": "stdout",
     "output_type": "stream",
     "text": [
      "Val acc: 0.40016553\n"
     ]
    },
    {
     "name": "stdout",
     "output_type": "stream",
     "text": [
      "('Epoch: 0/1', 'Iteration: 1430', 'Train loss: 0.25116816')\n"
     ]
    },
    {
     "name": "stdout",
     "output_type": "stream",
     "text": [
      "('Epoch: 0/1', 'Iteration: 1435', 'Train loss: 0.25723937')\n"
     ]
    },
    {
     "name": "stdout",
     "output_type": "stream",
     "text": [
      "('Epoch: 0/1', 'Iteration: 1440', 'Train loss: 0.25749275')\n"
     ]
    },
    {
     "name": "stdout",
     "output_type": "stream",
     "text": [
      "('Epoch: 0/1', 'Iteration: 1445', 'Train loss: 0.25553429')\n"
     ]
    },
    {
     "name": "stdout",
     "output_type": "stream",
     "text": [
      "('Epoch: 0/1', 'Iteration: 1450', 'Train loss: 0.25036448')\n"
     ]
    },
    {
     "name": "stdout",
     "output_type": "stream",
     "text": [
      "Val acc: 0.40016553\n"
     ]
    },
    {
     "name": "stdout",
     "output_type": "stream",
     "text": [
      "('Epoch: 0/1', 'Iteration: 1455', 'Train loss: 0.25298592')\n"
     ]
    },
    {
     "name": "stdout",
     "output_type": "stream",
     "text": [
      "('Epoch: 0/1', 'Iteration: 1460', 'Train loss: 0.25933841')\n"
     ]
    },
    {
     "name": "stdout",
     "output_type": "stream",
     "text": [
      "('Epoch: 0/1', 'Iteration: 1465', 'Train loss: 0.26077503')\n"
     ]
    },
    {
     "name": "stdout",
     "output_type": "stream",
     "text": [
      "('Epoch: 0/1', 'Iteration: 1470', 'Train loss: 0.25572270')\n"
     ]
    },
    {
     "name": "stdout",
     "output_type": "stream",
     "text": [
      "('Epoch: 0/1', 'Iteration: 1475', 'Train loss: 0.25715601')\n"
     ]
    },
    {
     "name": "stdout",
     "output_type": "stream",
     "text": [
      "Val acc: 0.40016553\n"
     ]
    },
    {
     "name": "stdout",
     "output_type": "stream",
     "text": [
      "('Epoch: 0/1', 'Iteration: 1480', 'Train loss: 0.24885173')\n"
     ]
    },
    {
     "name": "stdout",
     "output_type": "stream",
     "text": [
      "('Epoch: 0/1', 'Iteration: 1485', 'Train loss: 0.25208685')\n"
     ]
    },
    {
     "name": "stdout",
     "output_type": "stream",
     "text": [
      "('Epoch: 0/1', 'Iteration: 1490', 'Train loss: 0.24988058')\n"
     ]
    },
    {
     "name": "stdout",
     "output_type": "stream",
     "text": [
      "('Epoch: 0/1', 'Iteration: 1495', 'Train loss: 0.25757265')\n"
     ]
    },
    {
     "name": "stdout",
     "output_type": "stream",
     "text": [
      "('Epoch: 0/1', 'Iteration: 1500', 'Train loss: 0.24105769')\n"
     ]
    },
    {
     "name": "stdout",
     "output_type": "stream",
     "text": [
      "Val acc: 0.40016553\n"
     ]
    },
    {
     "name": "stdout",
     "output_type": "stream",
     "text": [
      "('Epoch: 0/1', 'Iteration: 1505', 'Train loss: 0.25337756')\n"
     ]
    },
    {
     "name": "stdout",
     "output_type": "stream",
     "text": [
      "('Epoch: 0/1', 'Iteration: 1510', 'Train loss: 0.24598552')\n"
     ]
    },
    {
     "name": "stdout",
     "output_type": "stream",
     "text": [
      "('Epoch: 0/1', 'Iteration: 1515', 'Train loss: 0.25235429')\n"
     ]
    },
    {
     "name": "stdout",
     "output_type": "stream",
     "text": [
      "('Epoch: 0/1', 'Iteration: 1520', 'Train loss: 0.26881850')\n"
     ]
    },
    {
     "name": "stdout",
     "output_type": "stream",
     "text": [
      "('Epoch: 0/1', 'Iteration: 1525', 'Train loss: 0.23767665')\n"
     ]
    },
    {
     "name": "stdout",
     "output_type": "stream",
     "text": [
      "Val acc: 0.40016553\n"
     ]
    },
    {
     "name": "stdout",
     "output_type": "stream",
     "text": [
      "('Epoch: 0/1', 'Iteration: 1530', 'Train loss: 0.26713535')\n"
     ]
    },
    {
     "name": "stdout",
     "output_type": "stream",
     "text": [
      "('Epoch: 0/1', 'Iteration: 1535', 'Train loss: 0.24462529')\n"
     ]
    },
    {
     "name": "stdout",
     "output_type": "stream",
     "text": [
      "('Epoch: 0/1', 'Iteration: 1540', 'Train loss: 0.26871988')\n"
     ]
    },
    {
     "name": "stdout",
     "output_type": "stream",
     "text": [
      "('Epoch: 0/1', 'Iteration: 1545', 'Train loss: 0.23724566')\n"
     ]
    },
    {
     "name": "stdout",
     "output_type": "stream",
     "text": [
      "('Epoch: 0/1', 'Iteration: 1550', 'Train loss: 0.25637519')\n"
     ]
    },
    {
     "name": "stdout",
     "output_type": "stream",
     "text": [
      "Val acc: 0.40016553\n"
     ]
    },
    {
     "name": "stdout",
     "output_type": "stream",
     "text": [
      "('Epoch: 0/1', 'Iteration: 1555', 'Train loss: 0.24824609')\n"
     ]
    },
    {
     "name": "stdout",
     "output_type": "stream",
     "text": [
      "('Epoch: 0/1', 'Iteration: 1560', 'Train loss: 0.24370962')\n"
     ]
    },
    {
     "name": "stdout",
     "output_type": "stream",
     "text": [
      "('Epoch: 0/1', 'Iteration: 1565', 'Train loss: 0.28456983')\n"
     ]
    },
    {
     "name": "stdout",
     "output_type": "stream",
     "text": [
      "('Epoch: 0/1', 'Iteration: 1570', 'Train loss: 0.23154043')\n"
     ]
    },
    {
     "name": "stdout",
     "output_type": "stream",
     "text": [
      "('Epoch: 0/1', 'Iteration: 1575', 'Train loss: 0.25414440')\n"
     ]
    },
    {
     "name": "stdout",
     "output_type": "stream",
     "text": [
      "Val acc: 0.40016553\n"
     ]
    },
    {
     "name": "stdout",
     "output_type": "stream",
     "text": [
      "('Epoch: 0/1', 'Iteration: 1580', 'Train loss: 0.27330515')\n"
     ]
    },
    {
     "name": "stdout",
     "output_type": "stream",
     "text": [
      "('Epoch: 0/1', 'Iteration: 1585', 'Train loss: 0.24074663')\n"
     ]
    },
    {
     "name": "stdout",
     "output_type": "stream",
     "text": [
      "('Epoch: 0/1', 'Iteration: 1590', 'Train loss: 0.28276622')\n"
     ]
    },
    {
     "name": "stdout",
     "output_type": "stream",
     "text": [
      "('Epoch: 0/1', 'Iteration: 1595', 'Train loss: 0.24688502')\n"
     ]
    },
    {
     "name": "stdout",
     "output_type": "stream",
     "text": [
      "('Epoch: 0/1', 'Iteration: 1600', 'Train loss: 0.24163221')\n"
     ]
    },
    {
     "name": "stdout",
     "output_type": "stream",
     "text": [
      "Val acc: 0.40016553\n"
     ]
    },
    {
     "name": "stdout",
     "output_type": "stream",
     "text": [
      "('Epoch: 0/1', 'Iteration: 1605', 'Train loss: 0.22873838')\n"
     ]
    },
    {
     "name": "stdout",
     "output_type": "stream",
     "text": [
      "('Epoch: 0/1', 'Iteration: 1610', 'Train loss: 0.25542745')\n"
     ]
    },
    {
     "name": "stdout",
     "output_type": "stream",
     "text": [
      "('Epoch: 0/1', 'Iteration: 1615', 'Train loss: 0.25210434')\n"
     ]
    },
    {
     "name": "stdout",
     "output_type": "stream",
     "text": [
      "('Epoch: 0/1', 'Iteration: 1620', 'Train loss: 0.21885169')\n"
     ]
    },
    {
     "name": "stdout",
     "output_type": "stream",
     "text": [
      "('Epoch: 0/1', 'Iteration: 1625', 'Train loss: 0.21211356')\n"
     ]
    },
    {
     "name": "stdout",
     "output_type": "stream",
     "text": [
      "Val acc: 0.40016553\n"
     ]
    },
    {
     "name": "stdout",
     "output_type": "stream",
     "text": [
      "('Epoch: 0/1', 'Iteration: 1630', 'Train loss: 0.25857741')\n"
     ]
    },
    {
     "name": "stdout",
     "output_type": "stream",
     "text": [
      "('Epoch: 0/1', 'Iteration: 1635', 'Train loss: 0.27955103')\n"
     ]
    },
    {
     "name": "stdout",
     "output_type": "stream",
     "text": [
      "('Epoch: 0/1', 'Iteration: 1640', 'Train loss: 0.18879206')\n"
     ]
    },
    {
     "name": "stdout",
     "output_type": "stream",
     "text": [
      "('Epoch: 0/1', 'Iteration: 1645', 'Train loss: 0.23677567')\n"
     ]
    },
    {
     "name": "stdout",
     "output_type": "stream",
     "text": [
      "('Epoch: 0/1', 'Iteration: 1650', 'Train loss: 0.33334234')\n"
     ]
    },
    {
     "name": "stdout",
     "output_type": "stream",
     "text": [
      "Val acc: 0.40016553\n"
     ]
    },
    {
     "name": "stdout",
     "output_type": "stream",
     "text": [
      "('Epoch: 0/1', 'Iteration: 1655', 'Train loss: 0.20162772')\n"
     ]
    },
    {
     "name": "stdout",
     "output_type": "stream",
     "text": [
      "('Epoch: 0/1', 'Iteration: 1660', 'Train loss: 0.21395130')\n"
     ]
    },
    {
     "name": "stdout",
     "output_type": "stream",
     "text": [
      "('Epoch: 0/1', 'Iteration: 1665', 'Train loss: 0.21907422')\n"
     ]
    },
    {
     "name": "stdout",
     "output_type": "stream",
     "text": [
      "('Epoch: 0/1', 'Iteration: 1670', 'Train loss: 0.20985402')\n"
     ]
    },
    {
     "name": "stdout",
     "output_type": "stream",
     "text": [
      "('Epoch: 0/1', 'Iteration: 1675', 'Train loss: 0.25025120')\n"
     ]
    },
    {
     "name": "stdout",
     "output_type": "stream",
     "text": [
      "Val acc: 0.40016553\n"
     ]
    },
    {
     "name": "stdout",
     "output_type": "stream",
     "text": [
      "('Epoch: 0/1', 'Iteration: 1680', 'Train loss: 0.26600614')\n"
     ]
    },
    {
     "name": "stdout",
     "output_type": "stream",
     "text": [
      "('Epoch: 0/1', 'Iteration: 1685', 'Train loss: 0.30935228')\n"
     ]
    },
    {
     "name": "stdout",
     "output_type": "stream",
     "text": [
      "('Epoch: 0/1', 'Iteration: 1690', 'Train loss: 0.24081720')\n"
     ]
    },
    {
     "name": "stdout",
     "output_type": "stream",
     "text": [
      "('Epoch: 0/1', 'Iteration: 1695', 'Train loss: 0.25303450')\n"
     ]
    },
    {
     "name": "stdout",
     "output_type": "stream",
     "text": [
      "('Epoch: 0/1', 'Iteration: 1700', 'Train loss: 0.25494093')\n"
     ]
    },
    {
     "name": "stdout",
     "output_type": "stream",
     "text": [
      "Val acc: 0.40016553\n"
     ]
    },
    {
     "name": "stdout",
     "output_type": "stream",
     "text": [
      "('Epoch: 0/1', 'Iteration: 1705', 'Train loss: 0.24610883')\n"
     ]
    },
    {
     "name": "stdout",
     "output_type": "stream",
     "text": [
      "('Epoch: 0/1', 'Iteration: 1710', 'Train loss: 0.24220729')\n"
     ]
    },
    {
     "name": "stdout",
     "output_type": "stream",
     "text": [
      "('Epoch: 0/1', 'Iteration: 1715', 'Train loss: 0.25940436')\n"
     ]
    },
    {
     "name": "stdout",
     "output_type": "stream",
     "text": [
      "('Epoch: 0/1', 'Iteration: 1720', 'Train loss: 0.25682902')\n"
     ]
    },
    {
     "name": "stdout",
     "output_type": "stream",
     "text": [
      "('Epoch: 0/1', 'Iteration: 1725', 'Train loss: 0.25041094')\n"
     ]
    },
    {
     "name": "stdout",
     "output_type": "stream",
     "text": [
      "Val acc: 0.40016553\n"
     ]
    },
    {
     "name": "stdout",
     "output_type": "stream",
     "text": [
      "('Epoch: 0/1', 'Iteration: 1730', 'Train loss: 0.24615486')\n"
     ]
    },
    {
     "name": "stdout",
     "output_type": "stream",
     "text": [
      "('Epoch: 0/1', 'Iteration: 1735', 'Train loss: 0.25694188')\n"
     ]
    },
    {
     "name": "stdout",
     "output_type": "stream",
     "text": [
      "('Epoch: 0/1', 'Iteration: 1740', 'Train loss: 0.26826704')\n"
     ]
    },
    {
     "name": "stdout",
     "output_type": "stream",
     "text": [
      "('Epoch: 0/1', 'Iteration: 1745', 'Train loss: 0.24095331')\n"
     ]
    },
    {
     "name": "stdout",
     "output_type": "stream",
     "text": [
      "('Epoch: 0/1', 'Iteration: 1750', 'Train loss: 0.26037624')\n"
     ]
    },
    {
     "name": "stdout",
     "output_type": "stream",
     "text": [
      "Val acc: 0.40016553\n"
     ]
    },
    {
     "name": "stdout",
     "output_type": "stream",
     "text": [
      "('Epoch: 0/1', 'Iteration: 1755', 'Train loss: 0.25248230')\n"
     ]
    },
    {
     "name": "stdout",
     "output_type": "stream",
     "text": [
      "('Epoch: 0/1', 'Iteration: 1760', 'Train loss: 0.25476521')\n"
     ]
    },
    {
     "name": "stdout",
     "output_type": "stream",
     "text": [
      "('Epoch: 0/1', 'Iteration: 1765', 'Train loss: 0.26172408')\n"
     ]
    },
    {
     "name": "stdout",
     "output_type": "stream",
     "text": [
      "('Epoch: 0/1', 'Iteration: 1770', 'Train loss: 0.25975859')\n"
     ]
    },
    {
     "name": "stdout",
     "output_type": "stream",
     "text": [
      "('Epoch: 0/1', 'Iteration: 1775', 'Train loss: 0.24993692')\n"
     ]
    },
    {
     "name": "stdout",
     "output_type": "stream",
     "text": [
      "Val acc: 0.40016553\n"
     ]
    },
    {
     "name": "stdout",
     "output_type": "stream",
     "text": [
      "('Epoch: 0/1', 'Iteration: 1780', 'Train loss: 0.24541716')\n"
     ]
    },
    {
     "name": "stdout",
     "output_type": "stream",
     "text": [
      "('Epoch: 0/1', 'Iteration: 1785', 'Train loss: 0.25422022')\n"
     ]
    },
    {
     "name": "stdout",
     "output_type": "stream",
     "text": [
      "('Epoch: 0/1', 'Iteration: 1790', 'Train loss: 0.24810229')\n"
     ]
    },
    {
     "name": "stdout",
     "output_type": "stream",
     "text": [
      "('Epoch: 0/1', 'Iteration: 1795', 'Train loss: 0.25761455')\n"
     ]
    },
    {
     "name": "stdout",
     "output_type": "stream",
     "text": [
      "('Epoch: 0/1', 'Iteration: 1800', 'Train loss: 0.24927060')\n"
     ]
    },
    {
     "name": "stdout",
     "output_type": "stream",
     "text": [
      "Val acc: 0.40016553\n"
     ]
    },
    {
     "name": "stdout",
     "output_type": "stream",
     "text": [
      "('Epoch: 0/1', 'Iteration: 1805', 'Train loss: 0.25049254')\n"
     ]
    },
    {
     "name": "stdout",
     "output_type": "stream",
     "text": [
      "('Epoch: 0/1', 'Iteration: 1810', 'Train loss: 0.25200188')\n"
     ]
    },
    {
     "name": "stdout",
     "output_type": "stream",
     "text": [
      "('Epoch: 0/1', 'Iteration: 1815', 'Train loss: 0.24862964')\n"
     ]
    },
    {
     "name": "stdout",
     "output_type": "stream",
     "text": [
      "('Epoch: 0/1', 'Iteration: 1820', 'Train loss: 0.25485942')\n"
     ]
    },
    {
     "name": "stdout",
     "output_type": "stream",
     "text": [
      "('Epoch: 0/1', 'Iteration: 1825', 'Train loss: 0.25315866')\n"
     ]
    },
    {
     "name": "stdout",
     "output_type": "stream",
     "text": [
      "Val acc: 0.40016553\n"
     ]
    },
    {
     "name": "stdout",
     "output_type": "stream",
     "text": [
      "('Epoch: 0/1', 'Iteration: 1830', 'Train loss: 0.25009993')\n"
     ]
    },
    {
     "name": "stdout",
     "output_type": "stream",
     "text": [
      "('Epoch: 0/1', 'Iteration: 1835', 'Train loss: 0.25125879')\n"
     ]
    },
    {
     "name": "stdout",
     "output_type": "stream",
     "text": [
      "('Epoch: 0/1', 'Iteration: 1840', 'Train loss: 0.24258113')\n"
     ]
    },
    {
     "name": "stdout",
     "output_type": "stream",
     "text": [
      "('Epoch: 0/1', 'Iteration: 1845', 'Train loss: 0.26030487')\n"
     ]
    },
    {
     "name": "stdout",
     "output_type": "stream",
     "text": [
      "('Epoch: 0/1', 'Iteration: 1850', 'Train loss: 0.25419891')\n"
     ]
    },
    {
     "name": "stdout",
     "output_type": "stream",
     "text": [
      "Val acc: 0.40016553\n"
     ]
    },
    {
     "name": "stdout",
     "output_type": "stream",
     "text": [
      "('Epoch: 0/1', 'Iteration: 1855', 'Train loss: 0.25267985')\n"
     ]
    },
    {
     "name": "stdout",
     "output_type": "stream",
     "text": [
      "('Epoch: 0/1', 'Iteration: 1860', 'Train loss: 0.24619026')\n"
     ]
    },
    {
     "name": "stdout",
     "output_type": "stream",
     "text": [
      "('Epoch: 0/1', 'Iteration: 1865', 'Train loss: 0.25751770')\n"
     ]
    },
    {
     "name": "stdout",
     "output_type": "stream",
     "text": [
      "('Epoch: 0/1', 'Iteration: 1870', 'Train loss: 0.24883473')\n"
     ]
    },
    {
     "name": "stdout",
     "output_type": "stream",
     "text": [
      "('Epoch: 0/1', 'Iteration: 1875', 'Train loss: 0.25513756')\n"
     ]
    },
    {
     "name": "stdout",
     "output_type": "stream",
     "text": [
      "Val acc: 0.40016553\n"
     ]
    },
    {
     "name": "stdout",
     "output_type": "stream",
     "text": [
      "('Epoch: 0/1', 'Iteration: 1880', 'Train loss: 0.24779344')\n"
     ]
    },
    {
     "name": "stdout",
     "output_type": "stream",
     "text": [
      "('Epoch: 0/1', 'Iteration: 1885', 'Train loss: 0.25277627')\n"
     ]
    },
    {
     "name": "stdout",
     "output_type": "stream",
     "text": [
      "('Epoch: 0/1', 'Iteration: 1890', 'Train loss: 0.25282097')\n"
     ]
    },
    {
     "name": "stdout",
     "output_type": "stream",
     "text": [
      "('Epoch: 0/1', 'Iteration: 1895', 'Train loss: 0.24945261')\n"
     ]
    },
    {
     "name": "stdout",
     "output_type": "stream",
     "text": [
      "('Epoch: 0/1', 'Iteration: 1900', 'Train loss: 0.25669134')\n"
     ]
    },
    {
     "name": "stdout",
     "output_type": "stream",
     "text": [
      "Val acc: 0.40016553\n"
     ]
    },
    {
     "name": "stdout",
     "output_type": "stream",
     "text": [
      "('Epoch: 0/1', 'Iteration: 1905', 'Train loss: 0.25150761')\n"
     ]
    },
    {
     "name": "stdout",
     "output_type": "stream",
     "text": [
      "('Epoch: 0/1', 'Iteration: 1910', 'Train loss: 0.25276199')\n"
     ]
    },
    {
     "name": "stdout",
     "output_type": "stream",
     "text": [
      "('Epoch: 0/1', 'Iteration: 1915', 'Train loss: 0.25195253')\n"
     ]
    },
    {
     "name": "stdout",
     "output_type": "stream",
     "text": [
      "('Epoch: 0/1', 'Iteration: 1920', 'Train loss: 0.25089496')\n"
     ]
    },
    {
     "name": "stdout",
     "output_type": "stream",
     "text": [
      "('Epoch: 0/1', 'Iteration: 1925', 'Train loss: 0.25160372')\n"
     ]
    },
    {
     "name": "stdout",
     "output_type": "stream",
     "text": [
      "Val acc: 0.40016553\n"
     ]
    },
    {
     "name": "stdout",
     "output_type": "stream",
     "text": [
      "('Epoch: 0/1', 'Iteration: 1930', 'Train loss: 0.25036409')\n"
     ]
    },
    {
     "name": "stdout",
     "output_type": "stream",
     "text": [
      "('Epoch: 0/1', 'Iteration: 1935', 'Train loss: 0.24580628')\n"
     ]
    },
    {
     "name": "stdout",
     "output_type": "stream",
     "text": [
      "('Epoch: 0/1', 'Iteration: 1940', 'Train loss: 0.25284427')\n"
     ]
    },
    {
     "name": "stdout",
     "output_type": "stream",
     "text": [
      "('Epoch: 0/1', 'Iteration: 1945', 'Train loss: 0.24943899')\n"
     ]
    },
    {
     "name": "stdout",
     "output_type": "stream",
     "text": [
      "('Epoch: 0/1', 'Iteration: 1950', 'Train loss: 0.25126004')\n"
     ]
    },
    {
     "name": "stdout",
     "output_type": "stream",
     "text": [
      "Val acc: 0.40016553\n"
     ]
    },
    {
     "name": "stdout",
     "output_type": "stream",
     "text": [
      "('Epoch: 0/1', 'Iteration: 1955', 'Train loss: 0.25208390')\n"
     ]
    },
    {
     "name": "stdout",
     "output_type": "stream",
     "text": [
      "('Epoch: 0/1', 'Iteration: 1960', 'Train loss: 0.25411865')\n"
     ]
    },
    {
     "name": "stdout",
     "output_type": "stream",
     "text": [
      "('Epoch: 0/1', 'Iteration: 1965', 'Train loss: 0.25144958')\n"
     ]
    },
    {
     "name": "stdout",
     "output_type": "stream",
     "text": [
      "('Epoch: 0/1', 'Iteration: 1970', 'Train loss: 0.25263867')\n"
     ]
    },
    {
     "name": "stdout",
     "output_type": "stream",
     "text": [
      "('Epoch: 0/1', 'Iteration: 1975', 'Train loss: 0.24524747')\n"
     ]
    },
    {
     "name": "stdout",
     "output_type": "stream",
     "text": [
      "Val acc: 0.40016553\n"
     ]
    },
    {
     "name": "stdout",
     "output_type": "stream",
     "text": [
      "('Epoch: 0/1', 'Iteration: 1980', 'Train loss: 0.24564375')\n"
     ]
    },
    {
     "name": "stdout",
     "output_type": "stream",
     "text": [
      "('Epoch: 0/1', 'Iteration: 1985', 'Train loss: 0.25430650')\n"
     ]
    },
    {
     "name": "stdout",
     "output_type": "stream",
     "text": [
      "('Epoch: 0/1', 'Iteration: 1990', 'Train loss: 0.23841912')\n"
     ]
    },
    {
     "name": "stdout",
     "output_type": "stream",
     "text": [
      "('Epoch: 0/1', 'Iteration: 1995', 'Train loss: 0.23628293')\n"
     ]
    },
    {
     "name": "stdout",
     "output_type": "stream",
     "text": [
      "('Epoch: 0/1', 'Iteration: 2000', 'Train loss: 0.23528227')\n"
     ]
    },
    {
     "name": "stdout",
     "output_type": "stream",
     "text": [
      "Val acc: 0.40016553\n"
     ]
    },
    {
     "name": "stdout",
     "output_type": "stream",
     "text": [
      "('Epoch: 0/1', 'Iteration: 2005', 'Train loss: 0.27009863')\n"
     ]
    },
    {
     "name": "stdout",
     "output_type": "stream",
     "text": [
      "('Epoch: 0/1', 'Iteration: 2010', 'Train loss: 0.25782993')\n"
     ]
    },
    {
     "name": "stdout",
     "output_type": "stream",
     "text": [
      "('Epoch: 0/1', 'Iteration: 2015', 'Train loss: 0.25340661')\n"
     ]
    },
    {
     "name": "stdout",
     "output_type": "stream",
     "text": [
      "('Epoch: 0/1', 'Iteration: 2020', 'Train loss: 0.25434190')\n"
     ]
    },
    {
     "name": "stdout",
     "output_type": "stream",
     "text": [
      "('Epoch: 0/1', 'Iteration: 2025', 'Train loss: 0.24821718')\n"
     ]
    },
    {
     "name": "stdout",
     "output_type": "stream",
     "text": [
      "Val acc: 0.40016553\n"
     ]
    },
    {
     "name": "stdout",
     "output_type": "stream",
     "text": [
      "('Epoch: 0/1', 'Iteration: 2030', 'Train loss: 0.25656679')\n"
     ]
    },
    {
     "name": "stdout",
     "output_type": "stream",
     "text": [
      "('Epoch: 0/1', 'Iteration: 2035', 'Train loss: 0.24304877')\n"
     ]
    },
    {
     "name": "stdout",
     "output_type": "stream",
     "text": [
      "('Epoch: 0/1', 'Iteration: 2040', 'Train loss: 0.26396650')\n"
     ]
    },
    {
     "name": "stdout",
     "output_type": "stream",
     "text": [
      "('Epoch: 0/1', 'Iteration: 2045', 'Train loss: 0.24576314')\n"
     ]
    },
    {
     "name": "stdout",
     "output_type": "stream",
     "text": [
      "('Epoch: 0/1', 'Iteration: 2050', 'Train loss: 0.24062084')\n"
     ]
    },
    {
     "name": "stdout",
     "output_type": "stream",
     "text": [
      "Val acc: 0.40016553\n"
     ]
    },
    {
     "name": "stdout",
     "output_type": "stream",
     "text": [
      "('Epoch: 0/1', 'Iteration: 2055', 'Train loss: 0.24468043')\n"
     ]
    },
    {
     "name": "stdout",
     "output_type": "stream",
     "text": [
      "('Epoch: 0/1', 'Iteration: 2060', 'Train loss: 0.26011541')\n"
     ]
    },
    {
     "name": "stdout",
     "output_type": "stream",
     "text": [
      "('Epoch: 0/1', 'Iteration: 2065', 'Train loss: 0.24905823')\n"
     ]
    },
    {
     "name": "stdout",
     "output_type": "stream",
     "text": [
      "('Epoch: 0/1', 'Iteration: 2070', 'Train loss: 0.23810253')\n"
     ]
    },
    {
     "name": "stdout",
     "output_type": "stream",
     "text": [
      "('Epoch: 0/1', 'Iteration: 2075', 'Train loss: 0.26601958')\n"
     ]
    },
    {
     "name": "stdout",
     "output_type": "stream",
     "text": [
      "Val acc: 0.40016553\n"
     ]
    },
    {
     "name": "stdout",
     "output_type": "stream",
     "text": [
      "('Epoch: 0/1', 'Iteration: 2080', 'Train loss: 0.25263596')\n"
     ]
    },
    {
     "name": "stdout",
     "output_type": "stream",
     "text": [
      "('Epoch: 0/1', 'Iteration: 2085', 'Train loss: 0.22154167')\n"
     ]
    },
    {
     "name": "stdout",
     "output_type": "stream",
     "text": [
      "('Epoch: 0/1', 'Iteration: 2090', 'Train loss: 0.27708843')\n"
     ]
    },
    {
     "name": "stdout",
     "output_type": "stream",
     "text": [
      "('Epoch: 0/1', 'Iteration: 2095', 'Train loss: 0.27318436')\n"
     ]
    },
    {
     "name": "stdout",
     "output_type": "stream",
     "text": [
      "('Epoch: 0/1', 'Iteration: 2100', 'Train loss: 0.25517404')\n"
     ]
    },
    {
     "name": "stdout",
     "output_type": "stream",
     "text": [
      "Val acc: 0.40016553\n"
     ]
    },
    {
     "name": "stdout",
     "output_type": "stream",
     "text": [
      "('Epoch: 0/1', 'Iteration: 2105', 'Train loss: 0.24341613')\n"
     ]
    },
    {
     "name": "stdout",
     "output_type": "stream",
     "text": [
      "('Epoch: 0/1', 'Iteration: 2110', 'Train loss: 0.25065586')\n"
     ]
    },
    {
     "name": "stdout",
     "output_type": "stream",
     "text": [
      "('Epoch: 0/1', 'Iteration: 2115', 'Train loss: 0.25888070')\n"
     ]
    },
    {
     "name": "stdout",
     "output_type": "stream",
     "text": [
      "('Epoch: 0/1', 'Iteration: 2120', 'Train loss: 0.25866318')\n"
     ]
    },
    {
     "name": "stdout",
     "output_type": "stream",
     "text": [
      "('Epoch: 0/1', 'Iteration: 2125', 'Train loss: 0.25090042')\n"
     ]
    },
    {
     "name": "stdout",
     "output_type": "stream",
     "text": [
      "Val acc: 0.40016553\n"
     ]
    },
    {
     "name": "stdout",
     "output_type": "stream",
     "text": [
      "('Epoch: 0/1', 'Iteration: 2130', 'Train loss: 0.25303528')\n"
     ]
    },
    {
     "name": "stdout",
     "output_type": "stream",
     "text": [
      "('Epoch: 0/1', 'Iteration: 2135', 'Train loss: 0.25854024')\n"
     ]
    },
    {
     "name": "stdout",
     "output_type": "stream",
     "text": [
      "('Epoch: 0/1', 'Iteration: 2140', 'Train loss: 0.25044933')\n"
     ]
    },
    {
     "name": "stdout",
     "output_type": "stream",
     "text": [
      "('Epoch: 0/1', 'Iteration: 2145', 'Train loss: 0.25086638')\n"
     ]
    },
    {
     "name": "stdout",
     "output_type": "stream",
     "text": [
      "('Epoch: 0/1', 'Iteration: 2150', 'Train loss: 0.24819282')\n"
     ]
    },
    {
     "name": "stdout",
     "output_type": "stream",
     "text": [
      "Val acc: 0.40016553\n"
     ]
    },
    {
     "name": "stdout",
     "output_type": "stream",
     "text": [
      "('Epoch: 0/1', 'Iteration: 2155', 'Train loss: 0.25312057')\n"
     ]
    },
    {
     "name": "stdout",
     "output_type": "stream",
     "text": [
      "('Epoch: 0/1', 'Iteration: 2160', 'Train loss: 0.25588295')\n"
     ]
    },
    {
     "name": "stdout",
     "output_type": "stream",
     "text": [
      "('Epoch: 0/1', 'Iteration: 2165', 'Train loss: 0.25182977')\n"
     ]
    },
    {
     "name": "stdout",
     "output_type": "stream",
     "text": [
      "('Epoch: 0/1', 'Iteration: 2170', 'Train loss: 0.24180242')\n"
     ]
    },
    {
     "name": "stdout",
     "output_type": "stream",
     "text": [
      "('Epoch: 0/1', 'Iteration: 2175', 'Train loss: 0.25312689')\n"
     ]
    },
    {
     "name": "stdout",
     "output_type": "stream",
     "text": [
      "Val acc: 0.40016553\n"
     ]
    },
    {
     "name": "stdout",
     "output_type": "stream",
     "text": [
      "('Epoch: 0/1', 'Iteration: 2180', 'Train loss: 0.25174001')\n"
     ]
    },
    {
     "name": "stdout",
     "output_type": "stream",
     "text": [
      "('Epoch: 0/1', 'Iteration: 2185', 'Train loss: 0.26036659')\n"
     ]
    },
    {
     "name": "stdout",
     "output_type": "stream",
     "text": [
      "('Epoch: 0/1', 'Iteration: 2190', 'Train loss: 0.24827389')\n"
     ]
    },
    {
     "name": "stdout",
     "output_type": "stream",
     "text": [
      "('Epoch: 0/1', 'Iteration: 2195', 'Train loss: 0.25163302')\n"
     ]
    },
    {
     "name": "stdout",
     "output_type": "stream",
     "text": [
      "('Epoch: 0/1', 'Iteration: 2200', 'Train loss: 0.25065288')\n"
     ]
    },
    {
     "name": "stdout",
     "output_type": "stream",
     "text": [
      "Val acc: 0.40016553\n"
     ]
    },
    {
     "name": "stdout",
     "output_type": "stream",
     "text": [
      "('Epoch: 0/1', 'Iteration: 2205', 'Train loss: 0.24790037')\n"
     ]
    },
    {
     "name": "stdout",
     "output_type": "stream",
     "text": [
      "('Epoch: 0/1', 'Iteration: 2210', 'Train loss: 0.25128505')\n"
     ]
    },
    {
     "name": "stdout",
     "output_type": "stream",
     "text": [
      "('Epoch: 0/1', 'Iteration: 2215', 'Train loss: 0.25388977')\n"
     ]
    },
    {
     "name": "stdout",
     "output_type": "stream",
     "text": [
      "('Epoch: 0/1', 'Iteration: 2220', 'Train loss: 0.25337714')\n"
     ]
    },
    {
     "name": "stdout",
     "output_type": "stream",
     "text": [
      "('Epoch: 0/1', 'Iteration: 2225', 'Train loss: 0.25012964')\n"
     ]
    },
    {
     "name": "stdout",
     "output_type": "stream",
     "text": [
      "Val acc: 0.40016553\n"
     ]
    },
    {
     "name": "stdout",
     "output_type": "stream",
     "text": [
      "('Epoch: 0/1', 'Iteration: 2230', 'Train loss: 0.25193498')\n"
     ]
    },
    {
     "name": "stdout",
     "output_type": "stream",
     "text": [
      "('Epoch: 0/1', 'Iteration: 2235', 'Train loss: 0.25534433')\n"
     ]
    },
    {
     "name": "stdout",
     "output_type": "stream",
     "text": [
      "('Epoch: 0/1', 'Iteration: 2240', 'Train loss: 0.25157633')\n"
     ]
    },
    {
     "name": "stdout",
     "output_type": "stream",
     "text": [
      "('Epoch: 0/1', 'Iteration: 2245', 'Train loss: 0.24530840')\n"
     ]
    },
    {
     "name": "stdout",
     "output_type": "stream",
     "text": [
      "('Epoch: 0/1', 'Iteration: 2250', 'Train loss: 0.25613528')\n"
     ]
    },
    {
     "name": "stdout",
     "output_type": "stream",
     "text": [
      "Val acc: 0.40016553\n"
     ]
    },
    {
     "name": "stdout",
     "output_type": "stream",
     "text": [
      "('Epoch: 0/1', 'Iteration: 2255', 'Train loss: 0.25223979')\n"
     ]
    },
    {
     "name": "stdout",
     "output_type": "stream",
     "text": [
      "('Epoch: 0/1', 'Iteration: 2260', 'Train loss: 0.24707273')\n"
     ]
    },
    {
     "name": "stdout",
     "output_type": "stream",
     "text": [
      "('Epoch: 0/1', 'Iteration: 2265', 'Train loss: 0.24746244')\n"
     ]
    },
    {
     "name": "stdout",
     "output_type": "stream",
     "text": [
      "('Epoch: 0/1', 'Iteration: 2270', 'Train loss: 0.25099111')\n"
     ]
    },
    {
     "name": "stdout",
     "output_type": "stream",
     "text": [
      "('Epoch: 0/1', 'Iteration: 2275', 'Train loss: 0.25117421')\n"
     ]
    },
    {
     "name": "stdout",
     "output_type": "stream",
     "text": [
      "Val acc: 0.40016553\n"
     ]
    },
    {
     "name": "stdout",
     "output_type": "stream",
     "text": [
      "('Epoch: 0/1', 'Iteration: 2280', 'Train loss: 0.25331771')\n"
     ]
    },
    {
     "name": "stdout",
     "output_type": "stream",
     "text": [
      "('Epoch: 0/1', 'Iteration: 2285', 'Train loss: 0.25089860')\n"
     ]
    },
    {
     "name": "stdout",
     "output_type": "stream",
     "text": [
      "('Epoch: 0/1', 'Iteration: 2290', 'Train loss: 0.25093293')\n"
     ]
    },
    {
     "name": "stdout",
     "output_type": "stream",
     "text": [
      "('Epoch: 0/1', 'Iteration: 2295', 'Train loss: 0.24847987')\n"
     ]
    },
    {
     "name": "stdout",
     "output_type": "stream",
     "text": [
      "('Epoch: 0/1', 'Iteration: 2300', 'Train loss: 0.24974704')\n"
     ]
    },
    {
     "name": "stdout",
     "output_type": "stream",
     "text": [
      "Val acc: 0.40016553\n"
     ]
    },
    {
     "name": "stdout",
     "output_type": "stream",
     "text": [
      "('Epoch: 0/1', 'Iteration: 2305', 'Train loss: 0.25086087')\n"
     ]
    },
    {
     "name": "stdout",
     "output_type": "stream",
     "text": [
      "('Epoch: 0/1', 'Iteration: 2310', 'Train loss: 0.24732657')\n"
     ]
    },
    {
     "name": "stdout",
     "output_type": "stream",
     "text": [
      "('Epoch: 0/1', 'Iteration: 2315', 'Train loss: 0.25136027')\n"
     ]
    },
    {
     "name": "stdout",
     "output_type": "stream",
     "text": [
      "('Epoch: 0/1', 'Iteration: 2320', 'Train loss: 0.25092655')\n"
     ]
    },
    {
     "name": "stdout",
     "output_type": "stream",
     "text": [
      "--- 296.008708954 seconds ---\n"
     ]
    }
   ],
   "source": [
    "import time\n",
    "start_time = time.time()\n",
    "\n",
    "with tf.device('/gpu:0'):\n",
    "    with tf.Session(graph=train_graph) as sess:\n",
    "        train_writer = tf.summary.FileWriter(\"./tensorboard-logs/try{0}/train\".format(experimentNumber),\n",
    "                                      sess.graph)\n",
    "        validation_writer = tf.summary.FileWriter(\"./tensorboard-logs/try{0}/val\".format(experimentNumber),\n",
    "                              sess.graph)\n",
    "\n",
    "        sess.run(tf.global_variables_initializer())\n",
    "        iteration = 1\n",
    "        for epoch in range(epochNumber):\n",
    "            for index, (x, y) in enumerate(getBatches(train_x, train_y, batchSize),1):\n",
    "                feed = {\n",
    "                        inputs: x, \n",
    "                        labels:y, \n",
    "                        lr: learningRate,\n",
    "                        drop_keep_porob: keepProbability}\n",
    "                \n",
    "                sess.run([optimiser], feed_dict=feed)\n",
    "\n",
    "                if iteration%5==0:\n",
    "                    summary,loss = sess.run([merged, cost],\n",
    "                        feed_dict=feed)                    \n",
    "                    print(\n",
    "                    \"Epoch: {0}/{1}\".format(epoch, epochNumber),\n",
    "                    \"Iteration: {0}\".format(iteration),\n",
    "                    \"Train loss: {:.8f}\".format(loss))\n",
    "                    train_writer.add_summary(summary, iteration)\n",
    "                    \n",
    "                if iteration%25==0:\n",
    "                    val_acc = []\n",
    "                    for x1,y1 in getBatches(val_x, val_y, batchSize):\n",
    "                        feed = {inputs: x1, \n",
    "                                labels: y1,\n",
    "                                lr: learningRate,\n",
    "                                drop_keep_porob:1.0}\n",
    "                        summary,batch_acc = sess.run([merged, accuracy], feed_dict=feed)\n",
    "                        val_acc.append(batch_acc)\n",
    "                    print(\"Val acc: {:.8f}\".format(np.mean(val_acc)))\n",
    "                    validation_writer.add_summary(summary, iteration)\n",
    "\n",
    "                iteration +=1\n",
    "            saver.save(sess, \"checkpoints/model{0}/predictor.ckpt\".format(modelNumber))\n",
    "\n",
    "    print(\"--- %s seconds ---\" % (time.time() - start_time))"
   ]
  },
  {
   "cell_type": "code",
   "execution_count": 29,
   "metadata": {},
   "outputs": [
    {
     "name": "stdout",
     "output_type": "stream",
     "text": [
      "INFO:tensorflow:Restoring parameters from checkpoints/model2/predictor.ckpt\n"
     ]
    },
    {
     "name": "stdout",
     "output_type": "stream",
     "text": [
      "Test accuracy: 0.509\n"
     ]
    }
   ],
   "source": [
    "test_acc = []\n",
    "with tf.Session(graph=train_graph) as sess:\n",
    "    saver.restore(sess, tf.train.latest_checkpoint('checkpoints/model{0}'.format(modelNumber)))\n",
    "    for ii, (x, y) in enumerate(getBatches(test_x, test_y, batchSize), 1):\n",
    "        feed = {inputs: x,\n",
    "                labels: y,\n",
    "                drop_keep_porob: 1.}\n",
    "        batch_acc = sess.run([accuracy], feed_dict=feed)\n",
    "        test_acc.append(batch_acc)\n",
    "    print(\"Test accuracy: {:.3f}\".format(1-np.mean(test_acc)))"
   ]
  },
  {
   "cell_type": "code",
   "execution_count": null,
   "metadata": {},
   "outputs": [],
   "source": []
  }
 ],
 "metadata": {
  "kernelspec": {
   "display_name": "Python 2",
   "language": "python",
   "name": "python2"
  },
  "language_info": {
   "codemirror_mode": {
    "name": "ipython",
    "version": 2
   },
   "file_extension": ".py",
   "mimetype": "text/x-python",
   "name": "python",
   "nbconvert_exporter": "python",
   "pygments_lexer": "ipython2",
   "version": "2.7.13"
  }
 },
 "nbformat": 4,
 "nbformat_minor": 2
}
